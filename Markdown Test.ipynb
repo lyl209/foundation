{
 "metadata": {
  "name": "",
  "signature": "sha256:ab60cfc799ec077ee1d7b9ab3ec2eeff974e6791cd142a98a41fbf4c4500b850"
 },
 "nbformat": 3,
 "nbformat_minor": 0,
 "worksheets": [
  {
   "cells": [
    {
     "cell_type": "markdown",
     "metadata": {},
     "source": [
      "$$c = \\sqrt{a^2 + b^2}$$"
     ]
    },
    {
     "cell_type": "markdown",
     "metadata": {},
     "source": [
      "A First Level Header\n",
      "====================\n",
      "\n",
      "A Second Level Header\n",
      "---------------------"
     ]
    },
    {
     "cell_type": "markdown",
     "metadata": {},
     "source": [
      "Try some text\n",
      "<p>\n",
      "Try here"
     ]
    },
    {
     "cell_type": "markdown",
     "metadata": {},
     "source": [
      "embeded code \n",
      "<p>\n",
      "`i = 5`"
     ]
    },
    {
     "cell_type": "code",
     "collapsed": false,
     "input": [
      "13*20"
     ],
     "language": "python",
     "metadata": {},
     "outputs": [
      {
       "metadata": {},
       "output_type": "pyout",
       "prompt_number": 1,
       "text": [
        "260"
       ]
      }
     ],
     "prompt_number": 1
    },
    {
     "cell_type": "code",
     "collapsed": false,
     "input": [],
     "language": "python",
     "metadata": {},
     "outputs": []
    }
   ],
   "metadata": {}
  }
 ]
}