{
 "metadata": {
  "name": "",
  "signature": "sha256:863b8bcea601db51148d5fe75e6a904c84b9184aad6dc58852e007a0d595db94"
 },
 "nbformat": 3,
 "nbformat_minor": 0,
 "worksheets": [
  {
   "cells": [
    {
     "cell_type": "code",
     "collapsed": false,
     "input": [
      "%matplotlib inline\n",
      "import matplotlib.pyplot as plt\n",
      "import numpy as np"
     ],
     "language": "python",
     "metadata": {},
     "outputs": [],
     "prompt_number": 1
    },
    {
     "cell_type": "code",
     "collapsed": false,
     "input": [
      "import scipy\n",
      "from scipy import random, linalg"
     ],
     "language": "python",
     "metadata": {},
     "outputs": [],
     "prompt_number": 15
    },
    {
     "cell_type": "heading",
     "level": 3,
     "metadata": {},
     "source": [
      "Q12"
     ]
    },
    {
     "cell_type": "code",
     "collapsed": false,
     "input": [
      "E,V = scipy.linalg.eigh(np.zeros((3,3)))"
     ],
     "language": "python",
     "metadata": {},
     "outputs": [],
     "prompt_number": 10
    },
    {
     "cell_type": "code",
     "collapsed": false,
     "input": [
      "E"
     ],
     "language": "python",
     "metadata": {},
     "outputs": [
      {
       "metadata": {},
       "output_type": "pyout",
       "prompt_number": 11,
       "text": [
        "array([ 0.,  0.,  0.])"
       ]
      }
     ],
     "prompt_number": 11
    },
    {
     "cell_type": "code",
     "collapsed": false,
     "input": [
      "import math"
     ],
     "language": "python",
     "metadata": {},
     "outputs": [],
     "prompt_number": 39
    },
    {
     "cell_type": "code",
     "collapsed": false,
     "input": [
      "def randomPSD():\n",
      "    matrixSize = 3\n",
      "    A = random.rand(matrixSize,matrixSize)\n",
      "    B = A*A.transpose()\n",
      "    print 'random positive semi-define matrix for today is\\n', B\n",
      "    return B"
     ],
     "language": "python",
     "metadata": {},
     "outputs": [],
     "prompt_number": 19
    },
    {
     "cell_type": "code",
     "collapsed": false,
     "input": [
      "k1=randomPSD()\n",
      "k2=randomPSD()"
     ],
     "language": "python",
     "metadata": {},
     "outputs": [
      {
       "output_type": "stream",
       "stream": "stdout",
       "text": [
        "random positive semi-define matrix for today is\n",
        "[[ 0.61079111  0.29469271  0.08320313]\n",
        " [ 0.29469271  0.32351928  0.04518909]\n",
        " [ 0.08320313  0.04518909  0.5939387 ]]\n",
        "random positive semi-define matrix for today is\n",
        "[[ 0.14275039  0.40395405  0.21848341]\n",
        " [ 0.40395405  0.51778676  0.40151863]\n",
        " [ 0.21848341  0.40151863  0.3492563 ]]\n"
       ]
      }
     ],
     "prompt_number": 20
    },
    {
     "cell_type": "code",
     "collapsed": false,
     "input": [
      "def option(x, y):\n",
      "    return x.dot(y)"
     ],
     "language": "python",
     "metadata": {},
     "outputs": [],
     "prompt_number": 81
    },
    {
     "cell_type": "code",
     "collapsed": false,
     "input": [
      "op = option(k1, k2)"
     ],
     "language": "python",
     "metadata": {},
     "outputs": [],
     "prompt_number": 82
    },
    {
     "cell_type": "code",
     "collapsed": false,
     "input": [
      "print op"
     ],
     "language": "python",
     "metadata": {},
     "outputs": [
      {
       "output_type": "stream",
       "stream": "stdout",
       "text": [
        "[[-2.94485479  2.72293319  0.24613853]\n",
        " [ 2.72293319 -3.15522306  1.27139617]\n",
        " [ 0.24613853  1.27139617 -1.0826    ]]\n"
       ]
      }
     ],
     "prompt_number": 74
    },
    {
     "cell_type": "code",
     "collapsed": false,
     "input": [
      "isPSD(op)"
     ],
     "language": "python",
     "metadata": {},
     "outputs": [
      {
       "metadata": {},
       "output_type": "pyout",
       "prompt_number": 75,
       "text": [
        "False"
       ]
      }
     ],
     "prompt_number": 75
    },
    {
     "cell_type": "code",
     "collapsed": false,
     "input": [
      "k1,k2"
     ],
     "language": "python",
     "metadata": {},
     "outputs": [
      {
       "metadata": {},
       "output_type": "pyout",
       "prompt_number": 46,
       "text": [
        "(array([[ 0.61079111,  0.29469271,  0.08320313],\n",
        "        [ 0.29469271,  0.32351928,  0.04518909],\n",
        "        [ 0.08320313,  0.04518909,  0.5939387 ]]),\n",
        " array([[ 0.14275039,  0.40395405,  0.21848341],\n",
        "        [ 0.40395405,  0.51778676,  0.40151863],\n",
        "        [ 0.21848341,  0.40151863,  0.3492563 ]]))"
       ]
      }
     ],
     "prompt_number": 46
    },
    {
     "cell_type": "code",
     "collapsed": false,
     "input": [
      "def isPSD(A, tol=1e-8):\n",
      "  E,V = np.linalg.eigh(A)\n",
      "  return np.all(E > -tol)"
     ],
     "language": "python",
     "metadata": {},
     "outputs": [],
     "prompt_number": 24
    },
    {
     "cell_type": "code",
     "collapsed": false,
     "input": [
      "import sklearn"
     ],
     "language": "python",
     "metadata": {},
     "outputs": [],
     "prompt_number": 79
    },
    {
     "cell_type": "code",
     "collapsed": false,
     "input": [
      "sklearn.__version__"
     ],
     "language": "python",
     "metadata": {},
     "outputs": [
      {
       "metadata": {},
       "output_type": "pyout",
       "prompt_number": 80,
       "text": [
        "'0.14.1'"
       ]
      }
     ],
     "prompt_number": 80
    },
    {
     "cell_type": "heading",
     "level": 3,
     "metadata": {},
     "source": [
      "Q3"
     ]
    },
    {
     "cell_type": "code",
     "collapsed": false,
     "input": [
      "x1=[1 0]\n",
      "y1=1\n",
      "x2=[0 1]\n",
      "y2=1\n",
      "x3=[0 -1]\n",
      "y3=-1\n"
     ],
     "language": "python",
     "metadata": {},
     "outputs": []
    },
    {
     "cell_type": "heading",
     "level": 3,
     "metadata": {},
     "source": [
      "Q15"
     ]
    },
    {
     "cell_type": "code",
     "collapsed": false,
     "input": [
      "import sklearn\n",
      "from sklearn import svm"
     ],
     "language": "python",
     "metadata": {},
     "outputs": [],
     "prompt_number": 123
    },
    {
     "cell_type": "code",
     "collapsed": false,
     "input": [
      "import csv"
     ],
     "language": "python",
     "metadata": {},
     "outputs": [],
     "prompt_number": 85
    },
    {
     "cell_type": "code",
     "collapsed": false,
     "input": [
      "train_data = np.array(list(csv.reader(open('features.train.txt', 'r'), delimiter=' ')))\n",
      "test_data = np.array(list(csv.reader(open('features.test.txt', 'r'), delimiter=' ')))\n",
      "print len(train_data)\n",
      "print len(test_data)"
     ],
     "language": "python",
     "metadata": {},
     "outputs": [
      {
       "output_type": "stream",
       "stream": "stdout",
       "text": [
        "7291\n",
        "2007\n"
       ]
      }
     ],
     "prompt_number": 91
    },
    {
     "cell_type": "code",
     "collapsed": false,
     "input": [
      "print train_data[0]\n",
      "print test_data[0]"
     ],
     "language": "python",
     "metadata": {},
     "outputs": [
      {
       "output_type": "stream",
       "stream": "stdout",
       "text": [
        "['' '' '' '6.0000000e+00' '' '' '3.4109180e-01' '' '-4.5289375e+00']\n",
        "['' '' '' '9.0000000e+00' '' '' '2.7217773e-01' '' '-4.8479375e+00']\n"
       ]
      }
     ],
     "prompt_number": 94
    },
    {
     "cell_type": "code",
     "collapsed": false,
     "input": [
      "y = np.array([0, 1, 2, 3])\n",
      "y\n",
      "#Y = (y==0)"
     ],
     "language": "python",
     "metadata": {},
     "outputs": [
      {
       "metadata": {},
       "output_type": "pyout",
       "prompt_number": 115,
       "text": [
        "array([0, 1, 2, 3])"
       ]
      }
     ],
     "prompt_number": 115
    },
    {
     "cell_type": "code",
     "collapsed": false,
     "input": [
      "Y = 1*Y\n",
      "Y"
     ],
     "language": "python",
     "metadata": {},
     "outputs": [
      {
       "metadata": {},
       "output_type": "pyout",
       "prompt_number": 103,
       "text": [
        "array([1, 0, 0, 0])"
       ]
      }
     ],
     "prompt_number": 103
    },
    {
     "cell_type": "code",
     "collapsed": false,
     "input": [
      "train_data[:,3]\n",
      "a = map(float, train_data[:,3])\n",
      "Y = np.array(a) == 0\n",
      "Y"
     ],
     "language": "python",
     "metadata": {},
     "outputs": [
      {
       "metadata": {},
       "output_type": "pyout",
       "prompt_number": 120,
       "text": [
        "array([False, False, False, ..., False,  True, False], dtype=bool)"
       ]
      }
     ],
     "prompt_number": 120
    },
    {
     "cell_type": "code",
     "collapsed": false,
     "input": [
      "def generateY(n):\n",
      "    a = map(float, train_data[:,3])\n",
      "    Y = (np.array(a) == n)\n",
      "    Y = 1*Y\n",
      "    return Y"
     ],
     "language": "python",
     "metadata": {},
     "outputs": [],
     "prompt_number": 138
    },
    {
     "cell_type": "code",
     "collapsed": false,
     "input": [
      "y = generateY(0)"
     ],
     "language": "python",
     "metadata": {},
     "outputs": [],
     "prompt_number": 139
    },
    {
     "cell_type": "code",
     "collapsed": false,
     "input": [
      "x1 = map(float,train_data[:,6])\n",
      "x2 = map(float,train_data[:,8])"
     ],
     "language": "python",
     "metadata": {},
     "outputs": [],
     "prompt_number": 144
    },
    {
     "cell_type": "code",
     "collapsed": false,
     "input": [
      "len(x1)"
     ],
     "language": "python",
     "metadata": {},
     "outputs": [
      {
       "metadata": {},
       "output_type": "pyout",
       "prompt_number": 155,
       "text": [
        "7291"
       ]
      }
     ],
     "prompt_number": 155
    },
    {
     "cell_type": "code",
     "collapsed": false,
     "input": [
      "l1 = np.array([1,2,3])\n",
      "l2 = np.array([4,5,6])\n",
      "l1 = np.array([l1]).T\n",
      "l2 = np.array([l2]).T\n",
      "np.column_stack([l1,l2])"
     ],
     "language": "python",
     "metadata": {},
     "outputs": [
      {
       "metadata": {},
       "output_type": "pyout",
       "prompt_number": 166,
       "text": [
        "array([[1, 4],\n",
        "       [2, 5],\n",
        "       [3, 6]])"
       ]
      }
     ],
     "prompt_number": 166
    },
    {
     "cell_type": "code",
     "collapsed": false,
     "input": [
      "X = np.column_stack([np.array(np.array(x1)).T, np.array(np.array(x2)).T])\n",
      "X"
     ],
     "language": "python",
     "metadata": {},
     "outputs": [
      {
       "metadata": {},
       "output_type": "pyout",
       "prompt_number": 168,
       "text": [
        "array([[ 0.3410918 , -4.5289375 ],\n",
        "       [ 0.44413086, -5.4968125 ],\n",
        "       [ 0.23100195, -2.88675   ],\n",
        "       ..., \n",
        "       [ 0.39370508, -2.9211875 ],\n",
        "       [ 0.59758984, -2.2580625 ],\n",
        "       [ 0.2762207 , -0.91625   ]])"
       ]
      }
     ],
     "prompt_number": 168
    },
    {
     "cell_type": "code",
     "collapsed": false,
     "input": [
      "cls = svm.SVC(kernel='linear', C=0.01)\n",
      "cls.fit(X, y)"
     ],
     "language": "python",
     "metadata": {},
     "outputs": [
      {
       "metadata": {},
       "output_type": "pyout",
       "prompt_number": 169,
       "text": [
        "SVC(C=0.01, cache_size=200, class_weight=None, coef0=0.0, degree=3, gamma=0.0,\n",
        "  kernel='linear', max_iter=-1, probability=False, random_state=None,\n",
        "  shrinking=True, tol=0.001, verbose=False)"
       ]
      }
     ],
     "prompt_number": 169
    },
    {
     "cell_type": "code",
     "collapsed": false,
     "input": [
      "cls.coef_"
     ],
     "language": "python",
     "metadata": {},
     "outputs": [
      {
       "metadata": {},
       "output_type": "pyout",
       "prompt_number": 171,
       "text": [
        "array([[ 0.57072734,  0.02595359]])"
       ]
      }
     ],
     "prompt_number": 171
    },
    {
     "cell_type": "code",
     "collapsed": false,
     "input": [
      "np.linalg.norm(cls.coef_)"
     ],
     "language": "python",
     "metadata": {},
     "outputs": [
      {
       "metadata": {},
       "output_type": "pyout",
       "prompt_number": 172,
       "text": [
        "0.57131714942568668"
       ]
      }
     ],
     "prompt_number": 172
    },
    {
     "cell_type": "heading",
     "level": 3,
     "metadata": {},
     "source": [
      "Q16"
     ]
    },
    {
     "cell_type": "code",
     "collapsed": false,
     "input": [
      "print test_data[0]"
     ],
     "language": "python",
     "metadata": {},
     "outputs": [
      {
       "output_type": "stream",
       "stream": "stdout",
       "text": [
        "['' '' '' '9.0000000e+00' '' '' '2.7217773e-01' '' '-4.8479375e+00']\n"
       ]
      }
     ],
     "prompt_number": 173
    },
    {
     "cell_type": "code",
     "collapsed": false,
     "input": [
      "cls = svm.SVC(kernel='poly', degree=2, C=0.01)\n",
      "y = generateY(0)\n",
      "cls.fit(X, y)\n",
      "print cls\n",
      "d = test_data[0]\n",
      "x = [float(d[6]), float(d[8])]\n",
      "cls.predict(x)"
     ],
     "language": "python",
     "metadata": {},
     "outputs": [
      {
       "output_type": "stream",
       "stream": "stdout",
       "text": [
        "SVC(C=0.01, cache_size=200, class_weight=None, coef0=0.0, degree=2, gamma=0.0,\n",
        "  kernel=poly, max_iter=-1, probability=False, random_state=None,\n",
        "  shrinking=True, tol=0.001, verbose=False)\n"
       ]
      },
      {
       "metadata": {},
       "output_type": "pyout",
       "prompt_number": 201,
       "text": [
        "array([0])"
       ]
      }
     ],
     "prompt_number": 201
    },
    {
     "cell_type": "code",
     "collapsed": false,
     "input": [
      "cls = svm.SVC(kernel='poly', degree=2, C=0.01)\n",
      "\n",
      "def Ein(target):    \n",
      "    y = generateY(target)\n",
      "    \n",
      "    cls.fit(X, y)\n",
      "    #print \"norm =\", np.linalg.norm(cls.dual_coef_)\n",
      "    \n",
      "    count = 0\n",
      "    for d in train_data:\n",
      "        x = [float(d[6]), float(d[8])]\n",
      "        pred = cls.predict(x)\n",
      "        ref = float(d[3])\n",
      "        if ref == target:\n",
      "            if pred[0] == 0:\n",
      "                count = count + 1\n",
      "        else:\n",
      "            if pred[0] == 1:\n",
      "                count = count + 1        \n",
      "    return count*1.0/len(train_data)"
     ],
     "language": "python",
     "metadata": {},
     "outputs": [],
     "prompt_number": 204
    },
    {
     "cell_type": "code",
     "collapsed": false,
     "input": [
      "for i in xrange(10):\n",
      "    print i, Ein(i)"
     ],
     "language": "python",
     "metadata": {},
     "outputs": [
      {
       "output_type": "stream",
       "stream": "stdout",
       "text": [
        "0 "
       ]
      },
      {
       "output_type": "stream",
       "stream": "stdout",
       "text": [
        "0.163763544095\n",
        "1 "
       ]
      },
      {
       "output_type": "stream",
       "stream": "stdout",
       "text": [
        "0.0157728706625\n",
        "2 "
       ]
      },
      {
       "output_type": "stream",
       "stream": "stdout",
       "text": [
        "0.100260595254\n",
        "3 "
       ]
      },
      {
       "output_type": "stream",
       "stream": "stdout",
       "text": [
        "0.0902482512687\n",
        "4 "
       ]
      },
      {
       "output_type": "stream",
       "stream": "stdout",
       "text": [
        "0.0894253188863\n",
        "5 "
       ]
      },
      {
       "output_type": "stream",
       "stream": "stdout",
       "text": [
        "0.0762584007681\n",
        "6 "
       ]
      },
      {
       "output_type": "stream",
       "stream": "stdout",
       "text": [
        "0.0910711836511\n",
        "7 "
       ]
      },
      {
       "output_type": "stream",
       "stream": "stdout",
       "text": [
        "0.0884652311068\n",
        "8 "
       ]
      },
      {
       "output_type": "stream",
       "stream": "stdout",
       "text": [
        "0.0743382252092\n",
        "9 "
       ]
      },
      {
       "output_type": "stream",
       "stream": "stdout",
       "text": [
        "0.0883280757098\n"
       ]
      }
     ],
     "prompt_number": 205
    },
    {
     "cell_type": "heading",
     "level": 3,
     "metadata": {},
     "source": [
      "Q17"
     ]
    },
    {
     "cell_type": "code",
     "collapsed": false,
     "input": [
      "y = generateY(0)\n"
     ],
     "language": "python",
     "metadata": {},
     "outputs": []
    },
    {
     "cell_type": "heading",
     "level": 3,
     "metadata": {},
     "source": [
      "Q18"
     ]
    },
    {
     "cell_type": "code",
     "collapsed": false,
     "input": [
      "def Eout(C, gamma, target):\n",
      "    print \"C =\",C, \"gamma =\", gamma\n",
      "    cls = svm.SVC(kernel='rbf', gamma=gamma, C=C)\n",
      "    cls.fit(X, y)\n",
      "    print \"SV#\", cls.n_support_[0]\n",
      "    \n",
      "    count = 0\n",
      "    for d in test_data:\n",
      "        x = [float(d[6]), float(d[8])]\n",
      "        pred = cls.predict(x)\n",
      "        ref = float(d[3])\n",
      "        if ref == target:\n",
      "            if pred[0] == 0:\n",
      "                count = count + 1\n",
      "        else:\n",
      "            if pred[0] == 1:\n",
      "                count = count + 1        \n",
      "    return count*1.0/len(test_data)"
     ],
     "language": "python",
     "metadata": {},
     "outputs": [],
     "prompt_number": 212
    },
    {
     "cell_type": "code",
     "collapsed": false,
     "input": [
      "print Eout(0.001 , 100, 0)\n",
      "print Eout(0.01, 100, 0)\n",
      "print Eout(0.1, 100, 0)\n",
      "print Eout(1, 100, 0)"
     ],
     "language": "python",
     "metadata": {},
     "outputs": [
      {
       "output_type": "stream",
       "stream": "stdout",
       "text": [
        "C = 0.001 gamma = 100\n",
        "SV#"
       ]
      },
      {
       "output_type": "stream",
       "stream": "stdout",
       "text": [
        " 1204\n",
        "0.178873941206"
       ]
      },
      {
       "output_type": "stream",
       "stream": "stdout",
       "text": [
        "\n",
        "C = 0.01 gamma = 100\n",
        "SV#"
       ]
      },
      {
       "output_type": "stream",
       "stream": "stdout",
       "text": [
        " 1326\n",
        "0.178873941206"
       ]
      },
      {
       "output_type": "stream",
       "stream": "stdout",
       "text": [
        "\n",
        "C = 0.1 gamma = 100\n",
        "SV#"
       ]
      },
      {
       "output_type": "stream",
       "stream": "stdout",
       "text": [
        " 1224\n",
        "0.105132037867"
       ]
      },
      {
       "output_type": "stream",
       "stream": "stdout",
       "text": [
        "\n",
        "C = 1 gamma = 100\n",
        "SV#"
       ]
      },
      {
       "output_type": "stream",
       "stream": "stdout",
       "text": [
        " 989\n",
        "0.103637269557"
       ]
      },
      {
       "output_type": "stream",
       "stream": "stdout",
       "text": [
        "\n"
       ]
      }
     ],
     "prompt_number": 213
    },
    {
     "cell_type": "code",
     "collapsed": false,
     "input": [
      "print Eout(0.1, 1, 0)\n",
      "print Eout(0.1, 10, 0)\n",
      "print Eout(0.1, 100, 0)\n",
      "print Eout(0.1, 1000, 0)\n",
      "print Eout(0.1, 10000, 0)"
     ],
     "language": "python",
     "metadata": {},
     "outputs": [
      {
       "output_type": "stream",
       "stream": "stdout",
       "text": [
        "C = 0.1 gamma = 1\n",
        "SV#"
       ]
      },
      {
       "output_type": "stream",
       "stream": "stdout",
       "text": [
        " 1068\n",
        "0.107125062282"
       ]
      },
      {
       "output_type": "stream",
       "stream": "stdout",
       "text": [
        "\n",
        "C = 0.1 gamma = 10\n",
        "SV#"
       ]
      },
      {
       "output_type": "stream",
       "stream": "stdout",
       "text": [
        " 969\n",
        "0.0991529646238"
       ]
      },
      {
       "output_type": "stream",
       "stream": "stdout",
       "text": [
        "\n",
        "C = 0.1 gamma = 100\n",
        "SV#"
       ]
      },
      {
       "output_type": "stream",
       "stream": "stdout",
       "text": [
        " 1224\n",
        "0.105132037867"
       ]
      },
      {
       "output_type": "stream",
       "stream": "stdout",
       "text": [
        "\n",
        "C = 0.1 gamma = 1000\n",
        "SV#"
       ]
      },
      {
       "output_type": "stream",
       "stream": "stdout",
       "text": [
        " 2524\n",
        "0.178873941206"
       ]
      },
      {
       "output_type": "stream",
       "stream": "stdout",
       "text": [
        "\n",
        "C = 0.1 gamma = 10000\n",
        "SV#"
       ]
      },
      {
       "output_type": "stream",
       "stream": "stdout",
       "text": [
        " 4704\n",
        "0.178873941206"
       ]
      },
      {
       "output_type": "stream",
       "stream": "stdout",
       "text": [
        "\n"
       ]
      }
     ],
     "prompt_number": 214
    },
    {
     "cell_type": "heading",
     "level": 3,
     "metadata": {},
     "source": [
      "Q3"
     ]
    },
    {
     "cell_type": "code",
     "collapsed": false,
     "input": [
      "X = np.array([[1, 0], [0, 1], [0, -1], [-1, 0], [0, 2], [0, -2], [-2, 0]])\n",
      "y = [-1,-1,-1,1,1,1,1]"
     ],
     "language": "python",
     "metadata": {},
     "outputs": [],
     "prompt_number": 124
    },
    {
     "cell_type": "code",
     "collapsed": false,
     "input": [
      "clf = svm.SVC(kernel='precomputed')"
     ],
     "language": "python",
     "metadata": {},
     "outputs": [],
     "prompt_number": 125
    },
    {
     "cell_type": "code",
     "collapsed": false,
     "input": [
      "gram = (1+np.dot(X, X.T))^2\n",
      "gram"
     ],
     "language": "python",
     "metadata": {},
     "outputs": [
      {
       "metadata": {},
       "output_type": "pyout",
       "prompt_number": 137,
       "text": [
        "array([[ 0,  3,  3,  2,  3,  3, -3],\n",
        "       [ 3,  0,  2,  3,  1, -3,  3],\n",
        "       [ 3,  2,  0,  3, -3,  1,  3],\n",
        "       [ 2,  3,  3,  0,  3,  3,  1],\n",
        "       [ 3,  1, -3,  3,  7, -1,  3],\n",
        "       [ 3, -3,  1,  3, -1,  7,  3],\n",
        "       [-3,  3,  3,  1,  3,  3,  7]])"
       ]
      }
     ],
     "prompt_number": 137
    },
    {
     "cell_type": "code",
     "collapsed": false,
     "input": [
      "def kernel(x,y):\n",
      "    return (1+x.dot(y))^2"
     ],
     "language": "python",
     "metadata": {},
     "outputs": [],
     "prompt_number": 134
    },
    {
     "cell_type": "code",
     "collapsed": false,
     "input": [
      "X[i]"
     ],
     "language": "python",
     "metadata": {},
     "outputs": [
      {
       "metadata": {},
       "output_type": "pyout",
       "prompt_number": 133,
       "text": [
        "array([1, 0])"
       ]
      }
     ],
     "prompt_number": 133
    },
    {
     "cell_type": "code",
     "collapsed": false,
     "input": [
      "K = np.zeros((7, 7))\n",
      "K"
     ],
     "language": "python",
     "metadata": {},
     "outputs": [
      {
       "metadata": {},
       "output_type": "pyout",
       "prompt_number": 131,
       "text": [
        "array([[ 0.,  0.,  0.,  0.,  0.,  0.,  0.],\n",
        "       [ 0.,  0.,  0.,  0.,  0.,  0.,  0.],\n",
        "       [ 0.,  0.,  0.,  0.,  0.,  0.,  0.],\n",
        "       [ 0.,  0.,  0.,  0.,  0.,  0.,  0.],\n",
        "       [ 0.,  0.,  0.,  0.,  0.,  0.,  0.],\n",
        "       [ 0.,  0.,  0.,  0.,  0.,  0.,  0.],\n",
        "       [ 0.,  0.,  0.,  0.,  0.,  0.,  0.]])"
       ]
      }
     ],
     "prompt_number": 131
    },
    {
     "cell_type": "code",
     "collapsed": false,
     "input": [
      "for i in range(7):\n",
      "    for j in range(7):\n",
      "        K[i,j] = kernel(X[i], X[j])"
     ],
     "language": "python",
     "metadata": {},
     "outputs": [],
     "prompt_number": 135
    },
    {
     "cell_type": "code",
     "collapsed": false,
     "input": [
      "K"
     ],
     "language": "python",
     "metadata": {},
     "outputs": [
      {
       "metadata": {},
       "output_type": "pyout",
       "prompt_number": 136,
       "text": [
        "array([[ 0.,  3.,  3.,  2.,  3.,  3., -3.],\n",
        "       [ 3.,  0.,  2.,  3.,  1., -3.,  3.],\n",
        "       [ 3.,  2.,  0.,  3., -3.,  1.,  3.],\n",
        "       [ 2.,  3.,  3.,  0.,  3.,  3.,  1.],\n",
        "       [ 3.,  1., -3.,  3.,  7., -1.,  3.],\n",
        "       [ 3., -3.,  1.,  3., -1.,  7.,  3.],\n",
        "       [-3.,  3.,  3.,  1.,  3.,  3.,  7.]])"
       ]
      }
     ],
     "prompt_number": 136
    },
    {
     "cell_type": "code",
     "collapsed": false,
     "input": [],
     "language": "python",
     "metadata": {},
     "outputs": []
    }
   ],
   "metadata": {}
  }
 ]
}