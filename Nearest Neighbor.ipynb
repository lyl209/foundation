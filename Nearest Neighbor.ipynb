{
 "metadata": {
  "name": "",
  "signature": "sha256:22b94262ca431d37b06a1c0306c5c0942ecb84fa38bb6ac6abcd6336a360ac9b"
 },
 "nbformat": 3,
 "nbformat_minor": 0,
 "worksheets": [
  {
   "cells": [
    {
     "cell_type": "code",
     "collapsed": false,
     "input": [
      "%matplotlib inline\n",
      "import matplotlib.pyplot as plt\n",
      "import numpy as np\n",
      "import random\n",
      "import csv"
     ],
     "language": "python",
     "metadata": {},
     "outputs": [],
     "prompt_number": 1
    },
    {
     "cell_type": "code",
     "collapsed": false,
     "input": [
      "train_data = np.array(list(csv.reader(open('hw4_knn_train.dat', 'r'), delimiter=' ')))\n",
      "test_data = np.array(list(csv.reader(open('hw4_knn_test.dat', 'r'), delimiter=' ')))\n",
      "print len(train_data)\n",
      "print len(test_data)\n",
      "print train_data[0]\n",
      "print test_data[0]"
     ],
     "language": "python",
     "metadata": {},
     "outputs": [
      {
       "output_type": "stream",
       "stream": "stdout",
       "text": [
        "100\n",
        "1000\n",
        "['0.8105' '-0.35' '0.4769' '0.4541' '-0.9829' '0.5252' '0.3838' '-0.3408'\n",
        " '-0.4824' '-1']\n",
        "['0.0531' '-0.1884' '-0.0351' '-0.1796' '-0.9891' '0.612' '0.2486' '0.844'\n",
        " '-0.5123' '-1']\n"
       ]
      }
     ],
     "prompt_number": 2
    },
    {
     "cell_type": "code",
     "collapsed": false,
     "input": [
      "from scipy.spatial import distance\n",
      "a = (1,2,3,7,8)\n",
      "b = (4,5,6,5,5)\n",
      "print distance.euclidean(a,b)"
     ],
     "language": "python",
     "metadata": {},
     "outputs": [
      {
       "output_type": "stream",
       "stream": "stdout",
       "text": [
        "6.32455532034\n"
       ]
      }
     ],
     "prompt_number": 3
    },
    {
     "cell_type": "heading",
     "level": 3,
     "metadata": {},
     "source": [
      "Q16 Eout"
     ]
    },
    {
     "cell_type": "markdown",
     "metadata": {},
     "source": [
      "For each point in test, calculate distances to 100 points in train.\n",
      "Sort 100 points by distance, and return top K points."
     ]
    },
    {
     "cell_type": "code",
     "collapsed": false,
     "input": [
      "map(float, train_data[0][0:9])"
     ],
     "language": "python",
     "metadata": {},
     "outputs": [
      {
       "metadata": {},
       "output_type": "pyout",
       "prompt_number": 9,
       "text": [
        "[0.8105, -0.35, 0.4769, 0.4541, -0.9829, 0.5252, 0.3838, -0.3408, -0.4824]"
       ]
      }
     ],
     "prompt_number": 9
    },
    {
     "cell_type": "code",
     "collapsed": false,
     "input": [
      "def knn(x, k):\n",
      "    x = map(float, x[0:9])\n",
      "    dist = []\n",
      "    \n",
      "    for data in train_data:\n",
      "        y = map(float, data[0:9])\n",
      "        d = distance.euclidean(x, y)\n",
      "        dist.append([d, data])\n",
      "    \n",
      "    sorted_dist = sorted(dist, key=lambda x: x[0])\n",
      "    return sorted_dist[0:k]"
     ],
     "language": "python",
     "metadata": {},
     "outputs": [],
     "prompt_number": 16
    },
    {
     "cell_type": "code",
     "collapsed": false,
     "input": [
      "knn(test_data[1], 1)[0][1][9]"
     ],
     "language": "python",
     "metadata": {},
     "outputs": [
      {
       "metadata": {},
       "output_type": "pyout",
       "prompt_number": 21,
       "text": [
        "'1'"
       ]
      }
     ],
     "prompt_number": 21
    },
    {
     "cell_type": "code",
     "collapsed": false,
     "input": [
      "knn(test_data[1], 5)"
     ],
     "language": "python",
     "metadata": {},
     "outputs": [
      {
       "metadata": {},
       "output_type": "pyout",
       "prompt_number": 24,
       "text": [
        "[[1.1472004053346567,\n",
        "  array(['0.9667', '0.2303', '0.8283', '-0.5686', '0.1668', '0.3949',\n",
        "         '-0.0423', '-0.3343', '-0.0286', '1'], \n",
        "        dtype='|S7')],\n",
        " [1.194270136945574,\n",
        "  array(['0.2551', '0.2422', '0.4373', '0.3066', '-0.8661', '0.821',\n",
        "         '-0.4233', '0.3844', '-0.4397', '-1'], \n",
        "        dtype='|S7')],\n",
        " [1.3861484877169545,\n",
        "  array(['0.7514', '0.7608', '-0.0175', '0.7071', '-0.0931', '0.9942',\n",
        "         '0.1359', '0.2259', '-0.0613', '-1'], \n",
        "        dtype='|S7')],\n",
        " [1.4955715496090447,\n",
        "  array(['-0.6103', '0.3564', '0.8529', '0.6461', '0.0044', '0.7361',\n",
        "         '-0.0573', '-0.0595', '-0.5517', '-1'], \n",
        "        dtype='|S7')],\n",
        " [1.5071627616153473,\n",
        "  array(['-0.2346', '0.9384', '-0.2555', '-0.1536', '0.6394', '0.962',\n",
        "         '0.0882', '-0.2189', '-0.1162', '-1'], \n",
        "        dtype='|S7')]]"
       ]
      }
     ],
     "prompt_number": 24
    },
    {
     "cell_type": "code",
     "collapsed": false,
     "input": [
      "def vote(result):\n",
      "    count = 0\n",
      "    for r in result:\n",
      "        if int(r[1][9]) == 1:\n",
      "            count = count + 1\n",
      "    #print count\n",
      "    if count > 2:\n",
      "        return 1\n",
      "    else:\n",
      "        return -1"
     ],
     "language": "python",
     "metadata": {},
     "outputs": [],
     "prompt_number": 31
    },
    {
     "cell_type": "code",
     "collapsed": false,
     "input": [
      "Eout = 0\n",
      "for data in test_data:\n",
      "    ref = int(data[9])\n",
      "    pred = int(knn(data, 1)[0][1][9])\n",
      "    \n",
      "    if ref != pred:\n",
      "        Eout = Eout + 1\n",
      "\n",
      "print \"Error count =\", Eout, \"Eout =\", Eout*1.0/len(test_data)\n",
      "    "
     ],
     "language": "python",
     "metadata": {},
     "outputs": [
      {
       "output_type": "stream",
       "stream": "stdout",
       "text": [
        "Error count = 344 Eout = 0.344\n"
       ]
      }
     ],
     "prompt_number": 23
    },
    {
     "cell_type": "heading",
     "level": 3,
     "metadata": {},
     "source": [
      "Q17 Ein"
     ]
    },
    {
     "cell_type": "code",
     "collapsed": false,
     "input": [
      "Eout = 0\n",
      "for data in train_data:\n",
      "    ref = int(data[9])\n",
      "    res = knn(data, 5)\n",
      "    #print res\n",
      "    pred = vote(res)\n",
      "    \n",
      "    if ref != pred:\n",
      "        Eout = Eout + 1\n",
      "\n",
      "print \"Error count =\", Eout, \"Ein =\", Eout*1.0/len(train_data)    "
     ],
     "language": "python",
     "metadata": {},
     "outputs": [
      {
       "output_type": "stream",
       "stream": "stdout",
       "text": [
        "Error count = 16 Eout = 0.16\n"
       ]
      }
     ],
     "prompt_number": 35
    },
    {
     "cell_type": "heading",
     "level": 3,
     "metadata": {},
     "source": [
      "Q18 Eout"
     ]
    },
    {
     "cell_type": "code",
     "collapsed": false,
     "input": [
      "Eout = 0\n",
      "for data in test_data:\n",
      "    ref = int(data[9])\n",
      "    res = knn(data, 5)\n",
      "    #print res\n",
      "    pred = vote(res)\n",
      "    \n",
      "    if ref != pred:\n",
      "        Eout = Eout + 1\n",
      "\n",
      "print \"Error count =\", Eout, \"Ein =\", Eout*1.0/len(test_data)    "
     ],
     "language": "python",
     "metadata": {},
     "outputs": [
      {
       "output_type": "stream",
       "stream": "stdout",
       "text": [
        "Error count = 316 Ein = 0.316\n"
       ]
      }
     ],
     "prompt_number": 36
    },
    {
     "cell_type": "code",
     "collapsed": false,
     "input": [],
     "language": "python",
     "metadata": {},
     "outputs": []
    }
   ],
   "metadata": {}
  }
 ]
}