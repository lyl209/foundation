{
 "metadata": {
  "name": "",
  "signature": "sha256:161a1960e28e86b17d01b2a5c2c2c4e2534c95b0f21f27ebee41a17b377fdcaa"
 },
 "nbformat": 3,
 "nbformat_minor": 0,
 "worksheets": [
  {
   "cells": [
    {
     "cell_type": "code",
     "collapsed": false,
     "input": [
      "%matplotlib inline\n",
      "import matplotlib.pyplot as plt\n",
      "import numpy as np\n",
      "import random\n",
      "import csv"
     ],
     "language": "python",
     "metadata": {},
     "outputs": [],
     "prompt_number": 1
    },
    {
     "cell_type": "heading",
     "level": 3,
     "metadata": {},
     "source": [
      "Q13 Experiments with Decision Tree"
     ]
    },
    {
     "cell_type": "code",
     "collapsed": false,
     "input": [
      "train_data = np.array(list(csv.reader(open('hw3_train.dat', 'r'), delimiter=' ')))\n",
      "test_data = np.array(list(csv.reader(open('hw3_test.dat', 'r'), delimiter=' ')))\n",
      "print len(train_data)\n",
      "print len(test_data)\n",
      "print train_data[0:5]\n",
      "print test_data[0:5]"
     ],
     "language": "python",
     "metadata": {},
     "outputs": [
      {
       "output_type": "stream",
       "stream": "stdout",
       "text": [
        "100\n",
        "1000\n",
        "[['0.757222' '0.633831' '-1']\n",
        " ['0.847382' '0.281581' '-1']\n",
        " ['0.24931' '0.618635' '+1']\n",
        " ['0.538526' '0.144259' '-1']\n",
        " ['0.474435' '0.414558' '-1']]\n",
        "['0.98425' '0.71261' '-1']\n"
       ]
      }
     ],
     "prompt_number": 2
    },
    {
     "cell_type": "code",
     "collapsed": false,
     "input": [
      "def gen_theta(data, d):\n",
      "    t = []\n",
      "    t.append(-100.0)\n",
      "    count = len(data)\n",
      "    \n",
      "    sorted_data = sorted(data, key=lambda x: float(x[d]))\n",
      "        \n",
      "    for i in xrange(count - 1):\n",
      "        t.append( (float(sorted_data[i][d]) + float(sorted_data[i+1][d])) / 2.0 )    \n",
      "        \n",
      "    t.append(100.0)\n",
      "    return t"
     ],
     "language": "python",
     "metadata": {},
     "outputs": [],
     "prompt_number": 301
    },
    {
     "cell_type": "code",
     "collapsed": false,
     "input": [
      "print train_data[0:5]\n",
      "print gen_theta(train_data[0:5], 0)\n",
      "print gen_theta(train_data[0:5], 1)\n"
     ],
     "language": "python",
     "metadata": {},
     "outputs": [
      {
       "output_type": "stream",
       "stream": "stdout",
       "text": [
        "[['0.757222' '0.633831' '-1']\n",
        " ['0.847382' '0.281581' '-1']\n",
        " ['0.24931' '0.618635' '+1']\n",
        " ['0.538526' '0.144259' '-1']\n",
        " ['0.474435' '0.414558' '-1']]\n",
        "[-100.0, 0.3618725, 0.5064805, 0.647874, 0.802302, 100.0]\n",
        "[-100.0, 0.21292, 0.34806950000000003, 0.5165965, 0.626233, 100.0]\n"
       ]
      }
     ],
     "prompt_number": 309
    },
    {
     "cell_type": "code",
     "collapsed": false,
     "input": [
      "def decision_tree(node, data):\n",
      "    global lvl\n",
      "            \n",
      "    leaf = terminated(data, lvl)\n",
      "    if leaf != None:\n",
      "        node.leaf = leaf\n",
      "        return leaf\n",
      "    \n",
      "    lvl = lvl + 1\n",
      "    \n",
      "    if lvl > 20:\n",
      "        print \"ERROR: Reach Limit!!!!\"\n",
      "        return 0\n",
      "        \n",
      "    (d, theta, data1, data2, impure) = learn_branch(data)\n",
      "\n",
      "    node.d = d\n",
      "    node.theta = theta\n",
      "                \n",
      "    node.left = BinaryTree()\n",
      "    decision_tree(node.left, data1)\n",
      "\n",
      "    node.right = BinaryTree()\n",
      "    decision_tree(node.right, data2)    "
     ],
     "language": "python",
     "metadata": {},
     "outputs": [],
     "prompt_number": 496
    },
    {
     "cell_type": "code",
     "collapsed": false,
     "input": [
      "lvl = 0\n",
      "test = train_data\n",
      "root = BinaryTree()\n",
      "decision_tree(root, test)\n",
      "#printTree(root)\n",
      "print \"Level =\", lvl"
     ],
     "language": "python",
     "metadata": {},
     "outputs": [
      {
       "output_type": "stream",
       "stream": "stdout",
       "text": [
        "Termindated because only 1 row\n",
        "Terminated because y all the same\n",
        "Terminated because y all the same\n",
        "Termindated because only 1 row\n",
        "Termindated because only 1 row\n",
        "Terminated because y all the same\n",
        "Terminated because y all the same\n",
        "Termindated because only 1 row\n",
        "Terminated because y all the same\n",
        "Terminated because y all the same\n",
        "Terminated because y all the same\n",
        "Level = 10\n"
       ]
      }
     ],
     "prompt_number": 501
    },
    {
     "cell_type": "code",
     "collapsed": false,
     "input": [
      "def split(data, d, theta):\n",
      "    data1 = []\n",
      "    data2 = []\n",
      "    \n",
      "    N = len(data)\n",
      "    \n",
      "    for i in xrange(N):\n",
      "        \n",
      "        if float(data[i][d]) < theta:\n",
      "            data1.append(data[i])\n",
      "        else:\n",
      "            data2.append(data[i])\n",
      "                \n",
      "    return (data1, data2)"
     ],
     "language": "python",
     "metadata": {},
     "outputs": [],
     "prompt_number": 220
    },
    {
     "cell_type": "code",
     "collapsed": false,
     "input": [
      "def learn_branch(data):\n",
      "    # b(x) = argmin impurity(d1 with h) + impurity (d2 with h)\n",
      "    N = len(data)\n",
      "    r = []\n",
      "    \n",
      "    #print \"Trying out every d and theta on N =\", N\n",
      "    \n",
      "    for d in (0, 1): # d = 0, 1\n",
      "        theta_list = gen_theta(data, d)\n",
      "        \n",
      "        for t in theta_list:\n",
      "            \n",
      "            (data1, data2) = split(data, d, t)\n",
      "            \n",
      "            gini1 = calc_gini(data1)\n",
      "            gini2 = calc_gini(data2)\n",
      "            \n",
      "            ss = len(data1)*gini1 + len(data2)*gini2\n",
      "            \n",
      "            r.append((d, t, data1, data2, ss))\n",
      "            \n",
      "    #print len(r)\n",
      "    lowest = min(r, key = lambda t: t[4])\n",
      "    #print \"Pick lowest impurity\"\n",
      "    return lowest"
     ],
     "language": "python",
     "metadata": {},
     "outputs": [],
     "prompt_number": 369
    },
    {
     "cell_type": "code",
     "collapsed": false,
     "input": [
      "test = train_data[0:20];\n",
      "print test\n",
      "(min_d, min_theta, d1, d2, impure) = learn_branch(test)\n",
      "\n",
      "print \"Min Gini Index: (d, theta) =\", (min_d, min_theta)\n",
      "print \"Split to\", len(d1), len(d2)"
     ],
     "language": "python",
     "metadata": {},
     "outputs": [
      {
       "output_type": "stream",
       "stream": "stdout",
       "text": [
        "[['0.757222' '0.633831' '-1']\n",
        " ['0.847382' '0.281581' '-1']\n",
        " ['0.24931' '0.618635' '+1']\n",
        " ['0.538526' '0.144259' '-1']\n",
        " ['0.474435' '0.414558' '-1']\n",
        " ['0.374151' '0.0120482' '1']\n",
        " ['0.847185' '0.217572' '1']\n",
        " ['0.983368' '0.250496' '1']\n",
        " ['0.645141' '0.485816' '1']\n",
        " ['0.172211' '0.254331' '-1']\n",
        " ['0.116866' '0.378804' '-1']\n",
        " ['0.55097' '0.760426' '-1']\n",
        " ['0.312109' '0.442938' '-1']\n",
        " ['0.304777' '0.0529649' '1']\n",
        " ['0.572727' '0.370527' '1']\n",
        " ['0.171491' '0.50076' '-1']\n",
        " ['0.644567' '0.834055' '-1']\n",
        " ['0.0529041' '0.338461' '-1']\n",
        " ['0.0323543' '0.830701' '-1']\n",
        " ['0.272193' '0.587396' '-1']]\n",
        "Trying out every d and theta on N = 20\n",
        "Pick lowest impurity\n",
        "Min Gini Index: (d, theta) = (1, 0.25241349999999996)\n",
        "Split to 5 15\n"
       ]
      }
     ],
     "prompt_number": 360
    },
    {
     "cell_type": "code",
     "collapsed": false,
     "input": [
      "def impure_gini(data, d, theta):\n",
      "    N = len(data)\n",
      "    \n",
      "    count1 = 0\n",
      "    count2 = 0    \n",
      "    for i in xrange(N):\n",
      "        xi = float(data[i][d])\n",
      "        y = int(data[i][2])\n",
      "        \n",
      "        if xi < theta:\n",
      "            # -1\n",
      "            if y == -1:\n",
      "                count1 = count1 + 1\n",
      "        else:\n",
      "            if y == 1:\n",
      "                count2 = count2 + 1\n",
      "                        \n",
      "    \n",
      "    pure = (count1*1.0/N)**2 + (count2*1.0/N)**2        \n",
      "    \n",
      "    return 1 - pure"
     ],
     "language": "python",
     "metadata": {},
     "outputs": [],
     "prompt_number": 178
    },
    {
     "cell_type": "code",
     "collapsed": false,
     "input": [
      "def calc_gini(data):\n",
      "    N = len(data)\n",
      "    \n",
      "    if N == 0:\n",
      "        return 0\n",
      "    \n",
      "    count1 = 0\n",
      "    count2 = 0\n",
      "    \n",
      "    for i in xrange(N):\n",
      "        y = int(data[i][2])\n",
      "        if y == -1:\n",
      "            count1 = count1 + 1\n",
      "        else:\n",
      "            count2 = count2 + 1\n",
      "    \n",
      "    pure = (count1*1.0/N)**2 + (count2*1.0/N)**2        \n",
      "    \n",
      "    return 1 - pure    "
     ],
     "language": "python",
     "metadata": {},
     "outputs": [],
     "prompt_number": 355
    },
    {
     "cell_type": "code",
     "collapsed": false,
     "input": [
      "test = train_data[0:20]\n",
      "#print test\n",
      "calc_gini(test)"
     ],
     "language": "python",
     "metadata": {},
     "outputs": [
      {
       "metadata": {},
       "output_type": "pyout",
       "prompt_number": 372,
       "text": [
        "0.45499999999999996"
       ]
      }
     ],
     "prompt_number": 372
    },
    {
     "cell_type": "code",
     "collapsed": false,
     "input": [
      "test = train_data[0:20]\n",
      "#print test\n",
      "b = learn_branch(test)\n",
      "#print impure_gini(train_data[0:5], 1, 0.7)"
     ],
     "language": "python",
     "metadata": {},
     "outputs": [],
     "prompt_number": 375
    },
    {
     "cell_type": "code",
     "collapsed": false,
     "input": [
      "def gt(data):    \n",
      "    total = len(data)    \n",
      "    count = 0\n",
      "    for d in data:\n",
      "        if int(d[2]) == -1:\n",
      "            count = count + 1\n",
      "            \n",
      "    if count > (total - count):\n",
      "        return -1\n",
      "    else:\n",
      "        return 1"
     ],
     "language": "python",
     "metadata": {},
     "outputs": [],
     "prompt_number": 317
    },
    {
     "cell_type": "code",
     "collapsed": false,
     "input": [
      "gt(train_data)"
     ],
     "language": "python",
     "metadata": {},
     "outputs": [
      {
       "metadata": {},
       "output_type": "pyout",
       "prompt_number": 53,
       "text": [
        "-1"
       ]
      }
     ],
     "prompt_number": 53
    },
    {
     "cell_type": "markdown",
     "metadata": {},
     "source": [
      "\u6ce8\u610f\u5224\u65adbuildTree\u9012\u5f52\u9000\u51fa\u6761\u4ef6:\n",
      "\n",
      "1. \u662f\u5426\u5230\u8fbe\u6700\u5927\u6307\u5b9a\u6df1\u5ea6 \uff0819\uff0c 20 \u8981\u7528) \u3002 g -> majority of y\n",
      "\n",
      "2. \u662f\u5426\u6240\u6709\u7684y\u90fd\u5df2\u76f8\u540c\u3002g -> y\n",
      "\n",
      "3. \u662f\u5426\u6240\u6709\u7684X\u90fd\u76f8\u540c\u3002  g -> majority of y\n",
      "\n",
      "\u4e0a\u8ff03\u4e2a\u6761\u4ef6\u4efb\u610f\u6ee1\u8db3\u4e00\u4e2a\u5c31\u8bf4\u660e\u5230 leaf \u4e86\uff0c\u8fd9\u65f6\u5019\u8bb0\u5f55leaf\u7684\u503cg\uff0c \u7136\u540ereturn\u3002"
     ]
    },
    {
     "cell_type": "code",
     "collapsed": false,
     "input": [
      "def terminated(data, level):\n",
      "    N = len(data)\n",
      "    \n",
      "    if N <= 1:\n",
      "        #print \"Termindated because only\", N, \"row\"\n",
      "        return gt(data)\n",
      "    \n",
      "    # Check if y all the same\n",
      "    y = int(data[N-1][2])\n",
      "    \n",
      "    count = 0\n",
      "    for d in data:\n",
      "        if int(d[2]) == y:\n",
      "            count = count + 1\n",
      "    \n",
      "    if count == N:\n",
      "        #print \"Terminated because y all the same\"\n",
      "        return y\n",
      "    \n",
      "    # Check if x all the same\n",
      "    count = 0\n",
      "    x = [float(data[N-1][0]), float(data[N-1][1])] \n",
      "    for d in data:\n",
      "        if float(d[0]) == x[0] and float(d[1]) == x[1]:\n",
      "            count = count + 1\n",
      "\n",
      "    if count == N:\n",
      "        #print \"Terminated because x all the same\"\n",
      "        return gt(data)"
     ],
     "language": "python",
     "metadata": {},
     "outputs": [],
     "prompt_number": 506
    },
    {
     "cell_type": "code",
     "collapsed": false,
     "input": [
      "def terminate(data):\n",
      "    \n",
      "    N = len(data)\n",
      "    if N == 0 or N == 1:\n",
      "        return True\n",
      "\n",
      "    # check if all y the same\n",
      "    y1 = data[N-1][2]\n",
      "    \n",
      "    for i in xrange(N):\n",
      "        #print data[i]\n",
      "        if data[i][2] != y1:\n",
      "            return False    \n",
      "    \n",
      "    return True"
     ],
     "language": "python",
     "metadata": {},
     "outputs": [],
     "prompt_number": 250
    },
    {
     "cell_type": "code",
     "collapsed": false,
     "input": [
      "terminate([1])"
     ],
     "language": "python",
     "metadata": {},
     "outputs": [
      {
       "metadata": {},
       "output_type": "pyout",
       "prompt_number": 251,
       "text": [
        "True"
       ]
      }
     ],
     "prompt_number": 251
    },
    {
     "cell_type": "heading",
     "level": 3,
     "metadata": {},
     "source": [
      "Q14 Build Tree"
     ]
    },
    {
     "cell_type": "code",
     "collapsed": false,
     "input": [
      "class BinaryTree:\n",
      "    def __init__(self):\n",
      "        self.leaf = None\n",
      "        self.d = None\n",
      "        self.theta = None\n",
      "        self.left = None\n",
      "        self.right = None\n"
     ],
     "language": "python",
     "metadata": {},
     "outputs": [],
     "prompt_number": 392
    },
    {
     "cell_type": "code",
     "collapsed": false,
     "input": [
      "def printTree(root):\n",
      "    if root != None:\n",
      "        if root.leaf != None:\n",
      "            print \"leaf =\", root.leaf\n",
      "        else:\n",
      "            print \"(d, theta) =\", (root.d, root.theta)\n",
      "    if root.left != None:\n",
      "        printTree(root.left)\n",
      "    if root.right != None:\n",
      "        printTree(root.right)"
     ],
     "language": "python",
     "metadata": {},
     "outputs": [],
     "prompt_number": 404
    },
    {
     "cell_type": "code",
     "collapsed": false,
     "input": [
      "r = BinaryTree()\n",
      "r.d = 5\n",
      "r.theta = 0.1\n",
      "#r.left = BinaryTree()\n",
      "#r.right = BinaryTree()\n",
      "printTree(r)"
     ],
     "language": "python",
     "metadata": {},
     "outputs": [
      {
       "output_type": "stream",
       "stream": "stdout",
       "text": [
        "(d, theta) = (5, 0.1)\n"
       ]
      }
     ],
     "prompt_number": 405
    },
    {
     "cell_type": "code",
     "collapsed": false,
     "input": [
      "def predict(node, x):\n",
      "    if node.leaf != None:\n",
      "        return node.leaf\n",
      "    \n",
      "    val = float(x[node.d])\n",
      "    \n",
      "    if val < node.theta:\n",
      "        return predict(node.left, x)\n",
      "    else:\n",
      "        return predict(node.right, x)"
     ],
     "language": "python",
     "metadata": {},
     "outputs": []
    },
    {
     "cell_type": "code",
     "collapsed": false,
     "input": [
      "print predict(root, ['0.757222','0.633831'])"
     ],
     "language": "python",
     "metadata": {},
     "outputs": [
      {
       "output_type": "stream",
       "stream": "stdout",
       "text": [
        "-1\n"
       ]
      }
     ],
     "prompt_number": 420
    },
    {
     "cell_type": "heading",
     "level": 3,
     "metadata": {},
     "source": [
      "Q14 Ein"
     ]
    },
    {
     "cell_type": "code",
     "collapsed": false,
     "input": [
      "def Error(node, data):\n",
      "    count = 0\n",
      "    N = len(data)\n",
      "    for i in xrange(len(data)):\n",
      "        p = predict(node, data[i])\n",
      "        y = int(data[i][2])\n",
      "        \n",
      "        if p != y:\n",
      "            count = count + 1\n",
      "\n",
      "    return count * 1.0/N"
     ],
     "language": "python",
     "metadata": {},
     "outputs": [],
     "prompt_number": 440
    },
    {
     "cell_type": "code",
     "collapsed": false,
     "input": [
      "Error(root, train_data)"
     ],
     "language": "python",
     "metadata": {},
     "outputs": [
      {
       "output_type": "stream",
       "stream": "stdout",
       "text": [
        "Error = 0.0\n"
       ]
      }
     ],
     "prompt_number": 429
    },
    {
     "cell_type": "heading",
     "level": 3,
     "metadata": {},
     "source": [
      "Q15 Eout"
     ]
    },
    {
     "cell_type": "code",
     "collapsed": false,
     "input": [
      "Error(root, test_data)"
     ],
     "language": "python",
     "metadata": {},
     "outputs": [
      {
       "output_type": "stream",
       "stream": "stdout",
       "text": [
        "Error = 0.126\n"
       ]
      }
     ],
     "prompt_number": 430
    },
    {
     "cell_type": "heading",
     "level": 3,
     "metadata": {},
     "source": [
      "Q16 Bagging Algorithm"
     ]
    },
    {
     "cell_type": "code",
     "collapsed": false,
     "input": [
      "#bootstrap_resample(train_data)\n",
      "Ein = []\n",
      "Eout = []"
     ],
     "language": "python",
     "metadata": {},
     "outputs": [],
     "prompt_number": 454
    },
    {
     "cell_type": "code",
     "collapsed": false,
     "input": [
      "#T = 300 # 300 trees\n",
      "#R = 100 # 100 rounds\n",
      "for i in xrange(5):\n",
      "        #print \"Tree\", i\n",
      "    X = bootstrap_resample(train_data)\n",
      "    root = BinaryTree()\n",
      "    decision_tree(root, X)\n",
      "    \n",
      "    Ein.append(Error(root, train_data))\n",
      "    Eout.append(Error(root, test_data))\n",
      "    \n",
      "print \"Mean Ein =\", np.mean(Ein), len(Ein)\n",
      "#print \"Mean Eout =\", np.mean(Eout), len(Eout)"
     ],
     "language": "python",
     "metadata": {},
     "outputs": [
      {
       "output_type": "stream",
       "stream": "stdout",
       "text": [
        "Mean Ein = 0.0527950310559 161\n"
       ]
      }
     ],
     "prompt_number": 489
    },
    {
     "cell_type": "code",
     "collapsed": false,
     "input": [
      "def bootstrap_resample(X, n=None):\n",
      "    if n == None:\n",
      "        n = len(X)\n",
      "        \n",
      "    resample_i = np.floor(np.random.rand(n)*len(X)).astype(int)\n",
      "    X_resample = X[resample_i]\n",
      "    return X_resample"
     ],
     "language": "python",
     "metadata": {},
     "outputs": [],
     "prompt_number": 490
    },
    {
     "cell_type": "code",
     "collapsed": false,
     "input": [
      "x = np.arange(5)\n",
      "print x\n",
      "print bootstrap_resample(x)\n",
      "print bootstrap_resample(x)\n",
      "print bootstrap_resample(x)"
     ],
     "language": "python",
     "metadata": {},
     "outputs": [
      {
       "output_type": "stream",
       "stream": "stdout",
       "text": [
        "[0 1 2 3 4]\n",
        "[3 2 2 0 4]\n",
        "[4 0 4 3 1]\n",
        "[1 0 2 3 4]\n"
       ]
      }
     ],
     "prompt_number": 427
    },
    {
     "cell_type": "heading",
     "level": 3,
     "metadata": {},
     "source": [
      "Q17 G of Random Forest"
     ]
    },
    {
     "cell_type": "code",
     "collapsed": false,
     "input": [
      "def build_forest():\n",
      "    global lvl\n",
      "    trees = []\n",
      "    T = 300\n",
      "    for i in xrange(T):\n",
      "        if i % 100 == 0:\n",
      "            print \"Tree =\", i, \", level =\", lvl\n",
      "        lvl = 0\n",
      "        X = bootstrap_resample(train_data)\n",
      "        root = BinaryTree()\n",
      "        decision_tree(root, X)\n",
      "        trees.append(root)\n",
      "    return trees"
     ],
     "language": "python",
     "metadata": {},
     "outputs": [],
     "prompt_number": 531
    },
    {
     "cell_type": "code",
     "collapsed": false,
     "input": [
      "Ein = []\n",
      "Eout = []\n",
      "R = 100\n",
      "for i in xrange(R):\n",
      "    trees = build_forest()\n",
      "    ein = ForestError(trees, train_data)\n",
      "    Ein.append(ein)\n",
      "    \n",
      "    eout = ForestError(trees, test_data)\n",
      "    Eout.append(eout)\n",
      "    \n",
      "    if i % 10 == 0:\n",
      "        print \"Round #\", i\n",
      "        print \"Ein(G) =\", ein\n",
      "        print \"Eout(G) =\", eout\n",
      "    \n",
      "print \"Mean Ein =\", np.mean(Ein)\n",
      "print \"Mean Eout =\", np.mean(Eout)"
     ],
     "language": "python",
     "metadata": {},
     "outputs": [
      {
       "output_type": "stream",
       "stream": "stdout",
       "text": [
        "Round # 0\n",
        "Tree = 0 , level = 8\n",
        "Tree ="
       ]
      },
      {
       "output_type": "stream",
       "stream": "stdout",
       "text": [
        " 100 , level = 8\n",
        "Tree ="
       ]
      },
      {
       "output_type": "stream",
       "stream": "stdout",
       "text": [
        " 200 , level = 10\n",
        "Ein(G) ="
       ]
      },
      {
       "output_type": "stream",
       "stream": "stdout",
       "text": [
        " 0.0\n",
        "Eout(G) ="
       ]
      },
      {
       "output_type": "stream",
       "stream": "stdout",
       "text": [
        " 0.071\n",
        "Round # 1\n",
        "Tree = 0 , level = 13\n",
        "Tree ="
       ]
      },
      {
       "output_type": "stream",
       "stream": "stdout",
       "text": [
        " 100 , level = 7\n",
        "Tree ="
       ]
      },
      {
       "output_type": "stream",
       "stream": "stdout",
       "text": [
        " 200 , level = 6\n",
        "Ein(G) ="
       ]
      },
      {
       "output_type": "stream",
       "stream": "stdout",
       "text": [
        " 0.0\n",
        "Eout(G) ="
       ]
      },
      {
       "output_type": "stream",
       "stream": "stdout",
       "text": [
        " 0.071\n",
        "Round # 2\n",
        "Tree = 0 , level = 11\n",
        "Tree ="
       ]
      },
      {
       "output_type": "stream",
       "stream": "stdout",
       "text": [
        " 100 , level = 7\n",
        "Tree ="
       ]
      },
      {
       "output_type": "stream",
       "stream": "stdout",
       "text": [
        " 200 , level = 9\n",
        "Ein(G) ="
       ]
      },
      {
       "output_type": "stream",
       "stream": "stdout",
       "text": [
        " 0.0\n",
        "Eout(G) ="
       ]
      },
      {
       "output_type": "stream",
       "stream": "stdout",
       "text": [
        " 0.072\n",
        "Round # 3\n",
        "Tree = 0 , level = 6\n",
        "Tree ="
       ]
      },
      {
       "output_type": "stream",
       "stream": "stdout",
       "text": [
        " 100 , level = 10\n",
        "Tree ="
       ]
      },
      {
       "output_type": "stream",
       "stream": "stdout",
       "text": [
        " 200 , level = 7\n",
        "Ein(G) ="
       ]
      },
      {
       "output_type": "stream",
       "stream": "stdout",
       "text": [
        " 0.0\n",
        "Eout(G) ="
       ]
      },
      {
       "output_type": "stream",
       "stream": "stdout",
       "text": [
        " 0.073\n",
        "Round # 4\n",
        "Tree = 0 , level = 9\n",
        "Tree ="
       ]
      },
      {
       "output_type": "stream",
       "stream": "stdout",
       "text": [
        " 100 , level = 8\n",
        "Tree ="
       ]
      },
      {
       "output_type": "stream",
       "stream": "stdout",
       "text": [
        " 200 , level = 11\n",
        "Ein(G) ="
       ]
      },
      {
       "output_type": "stream",
       "stream": "stdout",
       "text": [
        " 0.0\n",
        "Eout(G) ="
       ]
      },
      {
       "output_type": "stream",
       "stream": "stdout",
       "text": [
        " 0.076\n",
        "Round # 5\n",
        "Tree = 0 , level = 10\n",
        "Tree ="
       ]
      },
      {
       "output_type": "stream",
       "stream": "stdout",
       "text": [
        " 100 , level = 11\n",
        "Tree ="
       ]
      },
      {
       "output_type": "stream",
       "stream": "stdout",
       "text": [
        " 200 , level = 10\n",
        "Ein(G) ="
       ]
      },
      {
       "output_type": "stream",
       "stream": "stdout",
       "text": [
        " 0.0\n",
        "Eout(G) ="
       ]
      },
      {
       "output_type": "stream",
       "stream": "stdout",
       "text": [
        " 0.074\n",
        "Round # 6\n",
        "Tree = 0 , level = 12\n",
        "Tree ="
       ]
      },
      {
       "output_type": "stream",
       "stream": "stdout",
       "text": [
        " 100 , level = 8\n",
        "Tree ="
       ]
      },
      {
       "output_type": "stream",
       "stream": "stdout",
       "text": [
        " 200 , level = 12\n",
        "Ein(G) ="
       ]
      },
      {
       "output_type": "stream",
       "stream": "stdout",
       "text": [
        " 0.0\n",
        "Eout(G) ="
       ]
      },
      {
       "output_type": "stream",
       "stream": "stdout",
       "text": [
        " 0.079\n",
        "Round # 7\n",
        "Tree = 0 , level = 11\n",
        "Tree ="
       ]
      },
      {
       "output_type": "stream",
       "stream": "stdout",
       "text": [
        " 100 , level = 11\n",
        "Tree ="
       ]
      },
      {
       "output_type": "stream",
       "stream": "stdout",
       "text": [
        " 200 , level = 10\n",
        "Ein(G) ="
       ]
      },
      {
       "output_type": "stream",
       "stream": "stdout",
       "text": [
        " 0.0\n",
        "Eout(G) ="
       ]
      },
      {
       "output_type": "stream",
       "stream": "stdout",
       "text": [
        " 0.075\n",
        "Round # 8\n",
        "Tree = 0 , level = 10\n",
        "Tree ="
       ]
      },
      {
       "output_type": "stream",
       "stream": "stdout",
       "text": [
        " 100 , level = 7\n",
        "Tree ="
       ]
      },
      {
       "output_type": "stream",
       "stream": "stdout",
       "text": [
        " 200 , level = 7\n",
        "Ein(G) ="
       ]
      },
      {
       "output_type": "stream",
       "stream": "stdout",
       "text": [
        " 0.0\n",
        "Eout(G) ="
       ]
      },
      {
       "output_type": "stream",
       "stream": "stdout",
       "text": [
        " 0.081\n",
        "Round # 9\n",
        "Tree = 0 , level = 8\n",
        "Tree ="
       ]
      },
      {
       "output_type": "stream",
       "stream": "stdout",
       "text": [
        " 100 , level = 9\n",
        "Tree ="
       ]
      },
      {
       "output_type": "stream",
       "stream": "stdout",
       "text": [
        " 200 , level = 9\n",
        "Ein(G) ="
       ]
      },
      {
       "output_type": "stream",
       "stream": "stdout",
       "text": [
        " 0.0\n",
        "Eout(G) ="
       ]
      },
      {
       "output_type": "stream",
       "stream": "stdout",
       "text": [
        " 0.074\n",
        "Mean Ein = 0.0\n",
        "Mean Eout = 0.0746\n"
       ]
      }
     ],
     "prompt_number": 532
    },
    {
     "cell_type": "heading",
     "level": 3,
     "metadata": {},
     "source": [
      "Uniform Blending G(x)=sign(\u2211 gt(x))"
     ]
    },
    {
     "cell_type": "code",
     "collapsed": false,
     "input": [
      "def sign(x):\n",
      "    if x > 0:\n",
      "        return 1\n",
      "    else:\n",
      "        return -1"
     ],
     "language": "python",
     "metadata": {},
     "outputs": [],
     "prompt_number": 511
    },
    {
     "cell_type": "code",
     "collapsed": false,
     "input": [
      "d = train_data[0]\n",
      "ss = 0\n",
      "for t in trees:\n",
      "    ss = ss + predict(t, d)\n",
      "print sign(ss), ss"
     ],
     "language": "python",
     "metadata": {},
     "outputs": [
      {
       "output_type": "stream",
       "stream": "stdout",
       "text": [
        "-1 -140\n"
       ]
      }
     ],
     "prompt_number": 515
    },
    {
     "cell_type": "code",
     "collapsed": false,
     "input": [
      "def ForestError(trees, data):\n",
      "    count = 0\n",
      "    N = len(data)\n",
      "    \n",
      "    for d in data:\n",
      "        ss = 0\n",
      "        for t in trees:\n",
      "            ss = ss + predict(t, d)\n",
      "            \n",
      "        p = sign(ss)\n",
      "        y = int(d[2])\n",
      "        \n",
      "        if p != y:\n",
      "            count = count + 1\n",
      "\n",
      "    return count * 1.0/N"
     ],
     "language": "python",
     "metadata": {},
     "outputs": [
      {
       "output_type": "stream",
       "stream": "stdout",
       "text": [
        "\n"
       ]
      }
     ],
     "prompt_number": 519
    },
    {
     "cell_type": "heading",
     "level": 3,
     "metadata": {},
     "source": [
      "Q19 Prune One Branch Only"
     ]
    },
    {
     "cell_type": "code",
     "collapsed": false,
     "input": [
      "def prune_decision_tree(node, data):\n",
      "            \n",
      "    leaf = terminated(data, lvl)\n",
      "    if leaf != None:\n",
      "        node.leaf = leaf\n",
      "        return leaf\n",
      "            \n",
      "    (d, theta, data1, data2, impure) = learn_branch(data)\n",
      "\n",
      "    node.d = d\n",
      "    node.theta = theta\n",
      "                \n",
      "    node.left = BinaryTree()\n",
      "    node.left.leaf = gt(data1)\n",
      "\n",
      "    node.right = BinaryTree()\n",
      "    node.right.leaf = gt(data2)\n"
     ],
     "language": "python",
     "metadata": {},
     "outputs": [],
     "prompt_number": 538
    },
    {
     "cell_type": "code",
     "collapsed": false,
     "input": [
      "n = BinaryTree()\n",
      "prune_decision_tree(n, train_data)\n",
      "for d in train_data:\n",
      "    print predict(n, d), \"?=\", d[2]"
     ],
     "language": "python",
     "metadata": {},
     "outputs": [
      {
       "output_type": "stream",
       "stream": "stdout",
       "text": [
        "-1 ?= -1\n",
        "1 ?= -1\n",
        "1 ?= +1\n",
        "1 ?= -1\n",
        "1 ?= -1\n",
        "1 ?= 1\n",
        "1 ?= 1\n",
        "1 ?= 1\n",
        "1 ?= 1\n",
        "1 ?= -1\n",
        "1 ?= -1\n",
        "-1 ?= -1\n",
        "1 ?= -1\n",
        "1 ?= 1\n",
        "1 ?= 1\n",
        "1 ?= -1\n",
        "-1 ?= -1\n",
        "1 ?= -1\n",
        "-1 ?= -1\n",
        "1 ?= -1\n",
        "1 ?= 1\n",
        "1 ?= 1\n",
        "1 ?= 1\n",
        "1 ?= -1\n",
        "1 ?= -1\n",
        "1 ?= 1\n",
        "-1 ?= -1\n",
        "1 ?= 1\n",
        "1 ?= 1\n",
        "-1 ?= 1\n",
        "1 ?= 1\n",
        "1 ?= 1\n",
        "-1 ?= -1\n",
        "1 ?= -1\n",
        "1 ?= 1\n",
        "1 ?= 1\n",
        "1 ?= -1\n",
        "1 ?= 1\n",
        "-1 ?= -1\n",
        "1 ?= 1\n",
        "1 ?= -1\n",
        "1 ?= -1\n",
        "1 ?= 1\n",
        "-1 ?= -1\n",
        "-1 ?= -1\n",
        "-1 ?= -1\n",
        "1 ?= 1\n",
        "1 ?= 1\n",
        "1 ?= 1\n",
        "1 ?= 1\n",
        "1 ?= 1\n",
        "1 ?= 1\n",
        "-1 ?= -1\n",
        "1 ?= -1\n",
        "1 ?= 1\n",
        "1 ?= 1\n",
        "-1 ?= -1\n",
        "-1 ?= -1\n",
        "1 ?= 1\n",
        "1 ?= 1\n",
        "1 ?= -1\n",
        "-1 ?= -1\n",
        "-1 ?= -1\n",
        "-1 ?= -1\n",
        "-1 ?= 1\n",
        "-1 ?= -1\n",
        "1 ?= 1\n",
        "-1 ?= -1\n",
        "-1 ?= -1\n",
        "-1 ?= -1\n",
        "-1 ?= 1\n",
        "1 ?= 1\n",
        "1 ?= 1\n",
        "1 ?= -1\n",
        "-1 ?= -1\n",
        "-1 ?= -1\n",
        "1 ?= -1\n",
        "-1 ?= -1\n",
        "1 ?= 1\n",
        "1 ?= 1\n",
        "-1 ?= -1\n",
        "-1 ?= -1\n",
        "1 ?= 1\n",
        "1 ?= -1\n",
        "-1 ?= -1\n",
        "1 ?= 1\n",
        "1 ?= 1\n",
        "-1 ?= -1\n",
        "1 ?= 1\n",
        "-1 ?= -1\n",
        "-1 ?= -1\n",
        "1 ?= 1\n",
        "1 ?= -1\n",
        "-1 ?= -1\n",
        "1 ?= 1\n",
        "1 ?= -1\n",
        "1 ?= 1\n",
        "1 ?= 1\n",
        "1 ?= 1\n",
        "1 ?= 1\n"
       ]
      }
     ],
     "prompt_number": 539
    },
    {
     "cell_type": "code",
     "collapsed": false,
     "input": [
      "def build_prune_forest():\n",
      "    trees = []\n",
      "    T = 300\n",
      "    for i in xrange(T):\n",
      "        #if i % 100 == 0:\n",
      "        #    print \"Tree #\", i\n",
      "        X = bootstrap_resample(train_data)\n",
      "        root = BinaryTree()\n",
      "        prune_decision_tree(root, X)\n",
      "        trees.append(root)\n",
      "    return trees"
     ],
     "language": "python",
     "metadata": {},
     "outputs": [],
     "prompt_number": 540
    },
    {
     "cell_type": "code",
     "collapsed": false,
     "input": [
      "Ein = []\n",
      "Eout = []\n",
      "for i in xrange(100):\n",
      "    print \"Round #\", i\n",
      "    trees = build_prune_forest()\n",
      "    \n",
      "    ein = ForestError(trees, train_data)\n",
      "    Ein.append(ein)\n",
      "    print \"Ein(G) =\", ein\n",
      "    \n",
      "    eout = ForestError(trees, test_data)\n",
      "    Eout.append(eout)\n",
      "    print \"Eout(G) =\", eout\n",
      "print \"Mean Ein =\", np.mean(Ein)\n",
      "print \"Mean Eout =\", np.mean(Eout)"
     ],
     "language": "python",
     "metadata": {},
     "outputs": [
      {
       "output_type": "stream",
       "stream": "stdout",
       "text": [
        "Round # 0\n",
        "Ein(G) ="
       ]
      },
      {
       "output_type": "stream",
       "stream": "stdout",
       "text": [
        " 0.13\n",
        "Eout(G) ="
       ]
      },
      {
       "output_type": "stream",
       "stream": "stdout",
       "text": [
        " 0.166\n",
        "Round # 1\n",
        "Ein(G) ="
       ]
      },
      {
       "output_type": "stream",
       "stream": "stdout",
       "text": [
        " 0.12\n",
        "Eout(G) ="
       ]
      },
      {
       "output_type": "stream",
       "stream": "stdout",
       "text": [
        " 0.154\n",
        "Round # 2\n",
        "Ein(G) ="
       ]
      },
      {
       "output_type": "stream",
       "stream": "stdout",
       "text": [
        " 0.13\n",
        "Eout(G) ="
       ]
      },
      {
       "output_type": "stream",
       "stream": "stdout",
       "text": [
        " 0.163\n",
        "Round # 3\n",
        "Ein(G) ="
       ]
      },
      {
       "output_type": "stream",
       "stream": "stdout",
       "text": [
        " 0.11\n",
        "Eout(G) ="
       ]
      },
      {
       "output_type": "stream",
       "stream": "stdout",
       "text": [
        " 0.149\n",
        "Round # 4\n",
        "Ein(G) ="
       ]
      },
      {
       "output_type": "stream",
       "stream": "stdout",
       "text": [
        " 0.12\n",
        "Eout(G) ="
       ]
      },
      {
       "output_type": "stream",
       "stream": "stdout",
       "text": [
        " 0.155\n",
        "Round # 5\n",
        "Ein(G) ="
       ]
      },
      {
       "output_type": "stream",
       "stream": "stdout",
       "text": [
        " 0.13\n",
        "Eout(G) ="
       ]
      },
      {
       "output_type": "stream",
       "stream": "stdout",
       "text": [
        " 0.164\n",
        "Round # 6\n",
        "Ein(G) ="
       ]
      },
      {
       "output_type": "stream",
       "stream": "stdout",
       "text": [
        " 0.12\n",
        "Eout(G) ="
       ]
      },
      {
       "output_type": "stream",
       "stream": "stdout",
       "text": [
        " 0.143\n",
        "Round # 7\n",
        "Ein(G) ="
       ]
      },
      {
       "output_type": "stream",
       "stream": "stdout",
       "text": [
        " 0.1\n",
        "Eout(G) ="
       ]
      },
      {
       "output_type": "stream",
       "stream": "stdout",
       "text": [
        " 0.159\n",
        "Round # 8\n",
        "Ein(G) ="
       ]
      },
      {
       "output_type": "stream",
       "stream": "stdout",
       "text": [
        " 0.1\n",
        "Eout(G) ="
       ]
      },
      {
       "output_type": "stream",
       "stream": "stdout",
       "text": [
        " 0.146\n",
        "Round # 9\n",
        "Ein(G) ="
       ]
      },
      {
       "output_type": "stream",
       "stream": "stdout",
       "text": [
        " 0.08\n",
        "Eout(G) ="
       ]
      },
      {
       "output_type": "stream",
       "stream": "stdout",
       "text": [
        " 0.156\n",
        "Round # 10\n",
        "Ein(G) ="
       ]
      },
      {
       "output_type": "stream",
       "stream": "stdout",
       "text": [
        " 0.1\n",
        "Eout(G) ="
       ]
      },
      {
       "output_type": "stream",
       "stream": "stdout",
       "text": [
        " 0.148\n",
        "Round # 11\n",
        "Ein(G) ="
       ]
      },
      {
       "output_type": "stream",
       "stream": "stdout",
       "text": [
        " 0.1\n",
        "Eout(G) ="
       ]
      },
      {
       "output_type": "stream",
       "stream": "stdout",
       "text": [
        " 0.147\n",
        "Round # 12\n",
        "Ein(G) ="
       ]
      },
      {
       "output_type": "stream",
       "stream": "stdout",
       "text": [
        " 0.1\n",
        "Eout(G) ="
       ]
      },
      {
       "output_type": "stream",
       "stream": "stdout",
       "text": [
        " 0.15\n",
        "Round # 13\n",
        "Ein(G) ="
       ]
      },
      {
       "output_type": "stream",
       "stream": "stdout",
       "text": [
        " 0.12\n",
        "Eout(G) ="
       ]
      },
      {
       "output_type": "stream",
       "stream": "stdout",
       "text": [
        " 0.153\n",
        "Round # 14\n",
        "Ein(G) ="
       ]
      },
      {
       "output_type": "stream",
       "stream": "stdout",
       "text": [
        " 0.12\n",
        "Eout(G) ="
       ]
      },
      {
       "output_type": "stream",
       "stream": "stdout",
       "text": [
        " 0.163\n",
        "Round # 15\n",
        "Ein(G) ="
       ]
      },
      {
       "output_type": "stream",
       "stream": "stdout",
       "text": [
        " 0.13\n",
        "Eout(G) ="
       ]
      },
      {
       "output_type": "stream",
       "stream": "stdout",
       "text": [
        " 0.16\n",
        "Round # 16\n",
        "Ein(G) ="
       ]
      },
      {
       "output_type": "stream",
       "stream": "stdout",
       "text": [
        " 0.12\n",
        "Eout(G) ="
       ]
      },
      {
       "output_type": "stream",
       "stream": "stdout",
       "text": [
        " 0.152\n",
        "Round # 17\n",
        "Ein(G) ="
       ]
      },
      {
       "output_type": "stream",
       "stream": "stdout",
       "text": [
        " 0.12\n",
        "Eout(G) ="
       ]
      },
      {
       "output_type": "stream",
       "stream": "stdout",
       "text": [
        " 0.15\n",
        "Round # 18\n",
        "Ein(G) ="
       ]
      },
      {
       "output_type": "stream",
       "stream": "stdout",
       "text": [
        " 0.11\n",
        "Eout(G) ="
       ]
      },
      {
       "output_type": "stream",
       "stream": "stdout",
       "text": [
        " 0.166\n",
        "Round # 19\n",
        "Ein(G) ="
       ]
      },
      {
       "output_type": "stream",
       "stream": "stdout",
       "text": [
        " 0.08\n",
        "Eout(G) ="
       ]
      },
      {
       "output_type": "stream",
       "stream": "stdout",
       "text": [
        " 0.149\n",
        "Round # 20\n",
        "Ein(G) ="
       ]
      },
      {
       "output_type": "stream",
       "stream": "stdout",
       "text": [
        " 0.11\n",
        "Eout(G) ="
       ]
      },
      {
       "output_type": "stream",
       "stream": "stdout",
       "text": [
        " 0.15\n",
        "Round # 21\n",
        "Ein(G) ="
       ]
      },
      {
       "output_type": "stream",
       "stream": "stdout",
       "text": [
        " 0.12\n",
        "Eout(G) ="
       ]
      },
      {
       "output_type": "stream",
       "stream": "stdout",
       "text": [
        " 0.154\n",
        "Round # 22\n",
        "Ein(G) ="
       ]
      },
      {
       "output_type": "stream",
       "stream": "stdout",
       "text": [
        " 0.09\n",
        "Eout(G) ="
       ]
      },
      {
       "output_type": "stream",
       "stream": "stdout",
       "text": [
        " 0.146\n",
        "Round # 23\n",
        "Ein(G) ="
       ]
      },
      {
       "output_type": "stream",
       "stream": "stdout",
       "text": [
        " 0.1\n",
        "Eout(G) ="
       ]
      },
      {
       "output_type": "stream",
       "stream": "stdout",
       "text": [
        " 0.146\n",
        "Round # 24\n",
        "Ein(G) ="
       ]
      },
      {
       "output_type": "stream",
       "stream": "stdout",
       "text": [
        " 0.09\n",
        "Eout(G) ="
       ]
      },
      {
       "output_type": "stream",
       "stream": "stdout",
       "text": [
        " 0.141\n",
        "Round # 25\n",
        "Ein(G) ="
       ]
      },
      {
       "output_type": "stream",
       "stream": "stdout",
       "text": [
        " 0.13\n",
        "Eout(G) ="
       ]
      },
      {
       "output_type": "stream",
       "stream": "stdout",
       "text": [
        " 0.158\n",
        "Round # 26\n",
        "Ein(G) ="
       ]
      },
      {
       "output_type": "stream",
       "stream": "stdout",
       "text": [
        " 0.1\n",
        "Eout(G) ="
       ]
      },
      {
       "output_type": "stream",
       "stream": "stdout",
       "text": [
        " 0.145\n",
        "Round # 27\n",
        "Ein(G) ="
       ]
      },
      {
       "output_type": "stream",
       "stream": "stdout",
       "text": [
        " 0.12\n",
        "Eout(G) ="
       ]
      },
      {
       "output_type": "stream",
       "stream": "stdout",
       "text": [
        " 0.15\n",
        "Round # 28\n",
        "Ein(G) ="
       ]
      },
      {
       "output_type": "stream",
       "stream": "stdout",
       "text": [
        " 0.12\n",
        "Eout(G) ="
       ]
      },
      {
       "output_type": "stream",
       "stream": "stdout",
       "text": [
        " 0.145\n",
        "Round # 29\n",
        "Ein(G) ="
       ]
      },
      {
       "output_type": "stream",
       "stream": "stdout",
       "text": [
        " 0.12\n",
        "Eout(G) ="
       ]
      },
      {
       "output_type": "stream",
       "stream": "stdout",
       "text": [
        " 0.157\n",
        "Round # 30\n",
        "Ein(G) ="
       ]
      },
      {
       "output_type": "stream",
       "stream": "stdout",
       "text": [
        " 0.1\n",
        "Eout(G) ="
       ]
      },
      {
       "output_type": "stream",
       "stream": "stdout",
       "text": [
        " 0.148\n",
        "Round # 31\n",
        "Ein(G) ="
       ]
      },
      {
       "output_type": "stream",
       "stream": "stdout",
       "text": [
        " 0.12\n",
        "Eout(G) ="
       ]
      },
      {
       "output_type": "stream",
       "stream": "stdout",
       "text": [
        " 0.159\n",
        "Round # 32\n",
        "Ein(G) ="
       ]
      },
      {
       "output_type": "stream",
       "stream": "stdout",
       "text": [
        " 0.11\n",
        "Eout(G) ="
       ]
      },
      {
       "output_type": "stream",
       "stream": "stdout",
       "text": [
        " 0.15\n",
        "Round # 33\n",
        "Ein(G) ="
       ]
      },
      {
       "output_type": "stream",
       "stream": "stdout",
       "text": [
        " 0.11\n",
        "Eout(G) ="
       ]
      },
      {
       "output_type": "stream",
       "stream": "stdout",
       "text": [
        " 0.149\n",
        "Round # 34\n",
        "Ein(G) ="
       ]
      },
      {
       "output_type": "stream",
       "stream": "stdout",
       "text": [
        " 0.1\n",
        "Eout(G) ="
       ]
      },
      {
       "output_type": "stream",
       "stream": "stdout",
       "text": [
        " 0.152\n",
        "Round # 35\n",
        "Ein(G) ="
       ]
      },
      {
       "output_type": "stream",
       "stream": "stdout",
       "text": [
        " 0.09\n",
        "Eout(G) ="
       ]
      },
      {
       "output_type": "stream",
       "stream": "stdout",
       "text": [
        " 0.146\n",
        "Round # 36\n",
        "Ein(G) ="
       ]
      },
      {
       "output_type": "stream",
       "stream": "stdout",
       "text": [
        " 0.11\n",
        "Eout(G) ="
       ]
      },
      {
       "output_type": "stream",
       "stream": "stdout",
       "text": [
        " 0.148\n",
        "Round # 37\n",
        "Ein(G) ="
       ]
      },
      {
       "output_type": "stream",
       "stream": "stdout",
       "text": [
        " 0.08\n",
        "Eout(G) ="
       ]
      },
      {
       "output_type": "stream",
       "stream": "stdout",
       "text": [
        " 0.149\n",
        "Round # 38\n",
        "Ein(G) ="
       ]
      },
      {
       "output_type": "stream",
       "stream": "stdout",
       "text": [
        " 0.1\n",
        "Eout(G) ="
       ]
      },
      {
       "output_type": "stream",
       "stream": "stdout",
       "text": [
        " 0.17\n",
        "Round # 39\n",
        "Ein(G) ="
       ]
      },
      {
       "output_type": "stream",
       "stream": "stdout",
       "text": [
        " 0.09\n",
        "Eout(G) ="
       ]
      },
      {
       "output_type": "stream",
       "stream": "stdout",
       "text": [
        " 0.156\n",
        "Round # 40\n",
        "Ein(G) ="
       ]
      },
      {
       "output_type": "stream",
       "stream": "stdout",
       "text": [
        " 0.1\n",
        "Eout(G) ="
       ]
      },
      {
       "output_type": "stream",
       "stream": "stdout",
       "text": [
        " 0.148\n",
        "Round # 41\n",
        "Ein(G) ="
       ]
      },
      {
       "output_type": "stream",
       "stream": "stdout",
       "text": [
        " 0.12\n",
        "Eout(G) ="
       ]
      },
      {
       "output_type": "stream",
       "stream": "stdout",
       "text": [
        " 0.153\n",
        "Round # 42\n",
        "Ein(G) ="
       ]
      },
      {
       "output_type": "stream",
       "stream": "stdout",
       "text": [
        " 0.12\n",
        "Eout(G) ="
       ]
      },
      {
       "output_type": "stream",
       "stream": "stdout",
       "text": [
        " 0.152\n",
        "Round # 43\n",
        "Ein(G) ="
       ]
      },
      {
       "output_type": "stream",
       "stream": "stdout",
       "text": [
        " 0.13\n",
        "Eout(G) ="
       ]
      },
      {
       "output_type": "stream",
       "stream": "stdout",
       "text": [
        " 0.159\n",
        "Round # 44\n",
        "Ein(G) ="
       ]
      },
      {
       "output_type": "stream",
       "stream": "stdout",
       "text": [
        " 0.11\n",
        "Eout(G) ="
       ]
      },
      {
       "output_type": "stream",
       "stream": "stdout",
       "text": [
        " 0.169\n",
        "Round # 45\n",
        "Ein(G) ="
       ]
      },
      {
       "output_type": "stream",
       "stream": "stdout",
       "text": [
        " 0.11\n",
        "Eout(G) ="
       ]
      },
      {
       "output_type": "stream",
       "stream": "stdout",
       "text": [
        " 0.139\n",
        "Round # 46\n",
        "Ein(G) ="
       ]
      },
      {
       "output_type": "stream",
       "stream": "stdout",
       "text": [
        " 0.11\n",
        "Eout(G) ="
       ]
      },
      {
       "output_type": "stream",
       "stream": "stdout",
       "text": [
        " 0.149\n",
        "Round # 47\n",
        "Ein(G) ="
       ]
      },
      {
       "output_type": "stream",
       "stream": "stdout",
       "text": [
        " 0.12\n",
        "Eout(G) ="
       ]
      },
      {
       "output_type": "stream",
       "stream": "stdout",
       "text": [
        " 0.158\n",
        "Round # 48\n",
        "Ein(G) ="
       ]
      },
      {
       "output_type": "stream",
       "stream": "stdout",
       "text": [
        " 0.1\n",
        "Eout(G) ="
       ]
      },
      {
       "output_type": "stream",
       "stream": "stdout",
       "text": [
        " 0.163\n",
        "Round # 49\n",
        "Ein(G) ="
       ]
      },
      {
       "output_type": "stream",
       "stream": "stdout",
       "text": [
        " 0.11\n",
        "Eout(G) ="
       ]
      },
      {
       "output_type": "stream",
       "stream": "stdout",
       "text": [
        " 0.153\n",
        "Round # 50\n",
        "Ein(G) ="
       ]
      },
      {
       "output_type": "stream",
       "stream": "stdout",
       "text": [
        " 0.12\n",
        "Eout(G) ="
       ]
      },
      {
       "output_type": "stream",
       "stream": "stdout",
       "text": [
        " 0.162\n",
        "Round # 51\n",
        "Ein(G) ="
       ]
      },
      {
       "output_type": "stream",
       "stream": "stdout",
       "text": [
        " 0.12\n",
        "Eout(G) ="
       ]
      },
      {
       "output_type": "stream",
       "stream": "stdout",
       "text": [
        " 0.152\n",
        "Round # 52\n",
        "Ein(G) ="
       ]
      },
      {
       "output_type": "stream",
       "stream": "stdout",
       "text": [
        " 0.08\n",
        "Eout(G) ="
       ]
      },
      {
       "output_type": "stream",
       "stream": "stdout",
       "text": [
        " 0.15\n",
        "Round # 53\n",
        "Ein(G) ="
       ]
      },
      {
       "output_type": "stream",
       "stream": "stdout",
       "text": [
        " 0.12\n",
        "Eout(G) ="
       ]
      },
      {
       "output_type": "stream",
       "stream": "stdout",
       "text": [
        " 0.16\n",
        "Round # 54\n",
        "Ein(G) ="
       ]
      },
      {
       "output_type": "stream",
       "stream": "stdout",
       "text": [
        " 0.1\n",
        "Eout(G) ="
       ]
      },
      {
       "output_type": "stream",
       "stream": "stdout",
       "text": [
        " 0.148\n",
        "Round # 55\n",
        "Ein(G) ="
       ]
      },
      {
       "output_type": "stream",
       "stream": "stdout",
       "text": [
        " 0.11\n",
        "Eout(G) ="
       ]
      },
      {
       "output_type": "stream",
       "stream": "stdout",
       "text": [
        " 0.163\n",
        "Round # 56\n",
        "Ein(G) ="
       ]
      },
      {
       "output_type": "stream",
       "stream": "stdout",
       "text": [
        " 0.11\n",
        "Eout(G) ="
       ]
      },
      {
       "output_type": "stream",
       "stream": "stdout",
       "text": [
        " 0.173\n",
        "Round # 57\n",
        "Ein(G) ="
       ]
      },
      {
       "output_type": "stream",
       "stream": "stdout",
       "text": [
        " 0.12\n",
        "Eout(G) ="
       ]
      },
      {
       "output_type": "stream",
       "stream": "stdout",
       "text": [
        " 0.154\n",
        "Round # 58\n",
        "Ein(G) ="
       ]
      },
      {
       "output_type": "stream",
       "stream": "stdout",
       "text": [
        " 0.1\n",
        "Eout(G) ="
       ]
      },
      {
       "output_type": "stream",
       "stream": "stdout",
       "text": [
        " 0.146\n",
        "Round # 59\n",
        "Ein(G) ="
       ]
      },
      {
       "output_type": "stream",
       "stream": "stdout",
       "text": [
        " 0.09\n",
        "Eout(G) ="
       ]
      },
      {
       "output_type": "stream",
       "stream": "stdout",
       "text": [
        " 0.151\n",
        "Round # 60\n",
        "Ein(G) ="
       ]
      },
      {
       "output_type": "stream",
       "stream": "stdout",
       "text": [
        " 0.13\n",
        "Eout(G) ="
       ]
      },
      {
       "output_type": "stream",
       "stream": "stdout",
       "text": [
        " 0.158\n",
        "Round # 61\n",
        "Ein(G) ="
       ]
      },
      {
       "output_type": "stream",
       "stream": "stdout",
       "text": [
        " 0.11\n",
        "Eout(G) ="
       ]
      },
      {
       "output_type": "stream",
       "stream": "stdout",
       "text": [
        " 0.149\n",
        "Round # 62\n",
        "Ein(G) ="
       ]
      },
      {
       "output_type": "stream",
       "stream": "stdout",
       "text": [
        " 0.12\n",
        "Eout(G) ="
       ]
      },
      {
       "output_type": "stream",
       "stream": "stdout",
       "text": [
        " 0.146\n",
        "Round # 63\n",
        "Ein(G) ="
       ]
      },
      {
       "output_type": "stream",
       "stream": "stdout",
       "text": [
        " 0.13\n",
        "Eout(G) ="
       ]
      },
      {
       "output_type": "stream",
       "stream": "stdout",
       "text": [
        " 0.159\n",
        "Round # 64\n",
        "Ein(G) ="
       ]
      },
      {
       "output_type": "stream",
       "stream": "stdout",
       "text": [
        " 0.1\n",
        "Eout(G) ="
       ]
      },
      {
       "output_type": "stream",
       "stream": "stdout",
       "text": [
        " 0.169\n",
        "Round # 65\n",
        "Ein(G) ="
       ]
      },
      {
       "output_type": "stream",
       "stream": "stdout",
       "text": [
        " 0.1\n",
        "Eout(G) ="
       ]
      },
      {
       "output_type": "stream",
       "stream": "stdout",
       "text": [
        " 0.147\n",
        "Round # 66\n",
        "Ein(G) ="
       ]
      },
      {
       "output_type": "stream",
       "stream": "stdout",
       "text": [
        " 0.12\n",
        "Eout(G) ="
       ]
      },
      {
       "output_type": "stream",
       "stream": "stdout",
       "text": [
        " 0.153\n",
        "Round # 67\n",
        "Ein(G) ="
       ]
      },
      {
       "output_type": "stream",
       "stream": "stdout",
       "text": [
        " 0.12\n",
        "Eout(G) ="
       ]
      },
      {
       "output_type": "stream",
       "stream": "stdout",
       "text": [
        " 0.155\n",
        "Round # 68\n",
        "Ein(G) ="
       ]
      },
      {
       "output_type": "stream",
       "stream": "stdout",
       "text": [
        " 0.12\n",
        "Eout(G) ="
       ]
      },
      {
       "output_type": "stream",
       "stream": "stdout",
       "text": [
        " 0.134\n",
        "Round # 69\n",
        "Ein(G) ="
       ]
      },
      {
       "output_type": "stream",
       "stream": "stdout",
       "text": [
        " 0.11\n",
        "Eout(G) ="
       ]
      },
      {
       "output_type": "stream",
       "stream": "stdout",
       "text": [
        " 0.15\n",
        "Round # 70\n",
        "Ein(G) ="
       ]
      },
      {
       "output_type": "stream",
       "stream": "stdout",
       "text": [
        " 0.12\n",
        "Eout(G) ="
       ]
      },
      {
       "output_type": "stream",
       "stream": "stdout",
       "text": [
        " 0.154\n",
        "Round # 71\n",
        "Ein(G) ="
       ]
      },
      {
       "output_type": "stream",
       "stream": "stdout",
       "text": [
        " 0.1\n",
        "Eout(G) ="
       ]
      },
      {
       "output_type": "stream",
       "stream": "stdout",
       "text": [
        " 0.155\n",
        "Round # 72\n",
        "Ein(G) ="
       ]
      },
      {
       "output_type": "stream",
       "stream": "stdout",
       "text": [
        " 0.09\n",
        "Eout(G) ="
       ]
      },
      {
       "output_type": "stream",
       "stream": "stdout",
       "text": [
        " 0.148\n",
        "Round # 73\n",
        "Ein(G) ="
       ]
      },
      {
       "output_type": "stream",
       "stream": "stdout",
       "text": [
        " 0.11\n",
        "Eout(G) ="
       ]
      },
      {
       "output_type": "stream",
       "stream": "stdout",
       "text": [
        " 0.153\n",
        "Round # 74\n",
        "Ein(G) ="
       ]
      },
      {
       "output_type": "stream",
       "stream": "stdout",
       "text": [
        " 0.12\n",
        "Eout(G) ="
       ]
      },
      {
       "output_type": "stream",
       "stream": "stdout",
       "text": [
        " 0.154\n",
        "Round # 75\n",
        "Ein(G) ="
       ]
      },
      {
       "output_type": "stream",
       "stream": "stdout",
       "text": [
        " 0.1\n",
        "Eout(G) ="
       ]
      },
      {
       "output_type": "stream",
       "stream": "stdout",
       "text": [
        " 0.148\n",
        "Round # 76\n",
        "Ein(G) ="
       ]
      },
      {
       "output_type": "stream",
       "stream": "stdout",
       "text": [
        " 0.11\n",
        "Eout(G) ="
       ]
      },
      {
       "output_type": "stream",
       "stream": "stdout",
       "text": [
        " 0.151\n",
        "Round # 77\n",
        "Ein(G) ="
       ]
      },
      {
       "output_type": "stream",
       "stream": "stdout",
       "text": [
        " 0.09\n",
        "Eout(G) ="
       ]
      },
      {
       "output_type": "stream",
       "stream": "stdout",
       "text": [
        " 0.15\n",
        "Round # 78\n",
        "Ein(G) ="
       ]
      },
      {
       "output_type": "stream",
       "stream": "stdout",
       "text": [
        " 0.12\n",
        "Eout(G) ="
       ]
      },
      {
       "output_type": "stream",
       "stream": "stdout",
       "text": [
        " 0.154\n",
        "Round # 79\n",
        "Ein(G) ="
       ]
      },
      {
       "output_type": "stream",
       "stream": "stdout",
       "text": [
        " 0.1\n",
        "Eout(G) ="
       ]
      },
      {
       "output_type": "stream",
       "stream": "stdout",
       "text": [
        " 0.147\n",
        "Round # 80\n",
        "Ein(G) ="
       ]
      },
      {
       "output_type": "stream",
       "stream": "stdout",
       "text": [
        " 0.11\n",
        "Eout(G) ="
       ]
      },
      {
       "output_type": "stream",
       "stream": "stdout",
       "text": [
        " 0.148\n",
        "Round # 81\n",
        "Ein(G) ="
       ]
      },
      {
       "output_type": "stream",
       "stream": "stdout",
       "text": [
        " 0.1\n",
        "Eout(G) ="
       ]
      },
      {
       "output_type": "stream",
       "stream": "stdout",
       "text": [
        " 0.148\n",
        "Round # 82\n",
        "Ein(G) ="
       ]
      },
      {
       "output_type": "stream",
       "stream": "stdout",
       "text": [
        " 0.1\n",
        "Eout(G) ="
       ]
      },
      {
       "output_type": "stream",
       "stream": "stdout",
       "text": [
        " 0.147\n",
        "Round # 83\n",
        "Ein(G) ="
       ]
      },
      {
       "output_type": "stream",
       "stream": "stdout",
       "text": [
        " 0.07\n",
        "Eout(G) ="
       ]
      },
      {
       "output_type": "stream",
       "stream": "stdout",
       "text": [
        " 0.137\n",
        "Round # 84\n",
        "Ein(G) ="
       ]
      },
      {
       "output_type": "stream",
       "stream": "stdout",
       "text": [
        " 0.11\n",
        "Eout(G) ="
       ]
      },
      {
       "output_type": "stream",
       "stream": "stdout",
       "text": [
        " 0.153\n",
        "Round # 85\n",
        "Ein(G) ="
       ]
      },
      {
       "output_type": "stream",
       "stream": "stdout",
       "text": [
        " 0.1\n",
        "Eout(G) ="
       ]
      },
      {
       "output_type": "stream",
       "stream": "stdout",
       "text": [
        " 0.152\n",
        "Round # 86\n",
        "Ein(G) ="
       ]
      },
      {
       "output_type": "stream",
       "stream": "stdout",
       "text": [
        " 0.12\n",
        "Eout(G) ="
       ]
      },
      {
       "output_type": "stream",
       "stream": "stdout",
       "text": [
        " 0.153\n",
        "Round # 87\n",
        "Ein(G) ="
       ]
      },
      {
       "output_type": "stream",
       "stream": "stdout",
       "text": [
        " 0.12\n",
        "Eout(G) ="
       ]
      },
      {
       "output_type": "stream",
       "stream": "stdout",
       "text": [
        " 0.158\n",
        "Round # 88\n",
        "Ein(G) ="
       ]
      },
      {
       "output_type": "stream",
       "stream": "stdout",
       "text": [
        " 0.12\n",
        "Eout(G) ="
       ]
      },
      {
       "output_type": "stream",
       "stream": "stdout",
       "text": [
        " 0.157\n",
        "Round # 89\n",
        "Ein(G) ="
       ]
      },
      {
       "output_type": "stream",
       "stream": "stdout",
       "text": [
        " 0.12\n",
        "Eout(G) ="
       ]
      },
      {
       "output_type": "stream",
       "stream": "stdout",
       "text": [
        " 0.156\n",
        "Round # 90\n",
        "Ein(G) ="
       ]
      },
      {
       "output_type": "stream",
       "stream": "stdout",
       "text": [
        " 0.13\n",
        "Eout(G) ="
       ]
      },
      {
       "output_type": "stream",
       "stream": "stdout",
       "text": [
        " 0.165\n",
        "Round # 91\n",
        "Ein(G) ="
       ]
      },
      {
       "output_type": "stream",
       "stream": "stdout",
       "text": [
        " 0.1\n",
        "Eout(G) ="
       ]
      },
      {
       "output_type": "stream",
       "stream": "stdout",
       "text": [
        " 0.152\n",
        "Round # 92\n",
        "Ein(G) ="
       ]
      },
      {
       "output_type": "stream",
       "stream": "stdout",
       "text": [
        " 0.12\n",
        "Eout(G) ="
       ]
      },
      {
       "output_type": "stream",
       "stream": "stdout",
       "text": [
        " 0.154\n",
        "Round # 93\n",
        "Ein(G) ="
       ]
      },
      {
       "output_type": "stream",
       "stream": "stdout",
       "text": [
        " 0.11\n",
        "Eout(G) ="
       ]
      },
      {
       "output_type": "stream",
       "stream": "stdout",
       "text": [
        " 0.16\n",
        "Round # 94\n",
        "Ein(G) ="
       ]
      },
      {
       "output_type": "stream",
       "stream": "stdout",
       "text": [
        " 0.08\n",
        "Eout(G) ="
       ]
      },
      {
       "output_type": "stream",
       "stream": "stdout",
       "text": [
        " 0.151\n",
        "Round # 95\n",
        "Ein(G) ="
       ]
      },
      {
       "output_type": "stream",
       "stream": "stdout",
       "text": [
        " 0.09\n",
        "Eout(G) ="
       ]
      },
      {
       "output_type": "stream",
       "stream": "stdout",
       "text": [
        " 0.139\n",
        "Round # 96\n",
        "Ein(G) ="
       ]
      },
      {
       "output_type": "stream",
       "stream": "stdout",
       "text": [
        " 0.1\n",
        "Eout(G) ="
       ]
      },
      {
       "output_type": "stream",
       "stream": "stdout",
       "text": [
        " 0.148\n",
        "Round # 97\n",
        "Ein(G) ="
       ]
      },
      {
       "output_type": "stream",
       "stream": "stdout",
       "text": [
        " 0.13\n",
        "Eout(G) ="
       ]
      },
      {
       "output_type": "stream",
       "stream": "stdout",
       "text": [
        " 0.161\n",
        "Round # 98\n",
        "Ein(G) ="
       ]
      },
      {
       "output_type": "stream",
       "stream": "stdout",
       "text": [
        " 0.11\n",
        "Eout(G) ="
       ]
      },
      {
       "output_type": "stream",
       "stream": "stdout",
       "text": [
        " 0.148\n",
        "Round # 99\n",
        "Ein(G) ="
       ]
      },
      {
       "output_type": "stream",
       "stream": "stdout",
       "text": [
        " 0.1\n",
        "Eout(G) ="
       ]
      },
      {
       "output_type": "stream",
       "stream": "stdout",
       "text": [
        " 0.155\n",
        "Mean Ein = 0.1091\n",
        "Mean Eout = 0.1529\n"
       ]
      }
     ],
     "prompt_number": 541
    },
    {
     "cell_type": "code",
     "collapsed": false,
     "input": [],
     "language": "python",
     "metadata": {},
     "outputs": []
    }
   ],
   "metadata": {}
  }
 ]
}