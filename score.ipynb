{
 "metadata": {
  "name": "score"
 },
 "nbformat": 3,
 "nbformat_minor": 0,
 "worksheets": [
  {
   "cells": [
    {
     "cell_type": "code",
     "collapsed": false,
     "input": [
      "Result = []\n",
      "mcq = 2\n",
      "mco = mcq * 5\n",
      "scq = 20 - mcq\n",
      "\n",
      "match = 309\n",
      "r = 0\n",
      "for i in xrange(scq):\n",
      "  for j in xrange(mco):\n",
      "    r = i * 20 - (scq - i) * 5 + j * 4 - (mco - j) * 4\n",
      "    Result.append((r, i, j))\n",
      "    if r == match:\n",
      "        print 'Single selection correct =', i, '/', scq\n",
      "        print 'Multi selection correct =', j , '/' , mco\n",
      "        \n",
      "    \n"
     ],
     "language": "python",
     "metadata": {},
     "outputs": [
      {
       "output_type": "stream",
       "stream": "stdout",
       "text": [
        "Single selection correct = 15 / 18\n",
        "Multi selection correct = 8 / 10\n"
       ]
      }
     ],
     "prompt_number": 6
    },
    {
     "cell_type": "code",
     "collapsed": false,
     "input": [],
     "language": "python",
     "metadata": {},
     "outputs": []
    }
   ],
   "metadata": {}
  }
 ]
}
