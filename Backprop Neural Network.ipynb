{
 "metadata": {
  "name": "",
  "signature": "sha256:767264d5ff7a80c63eb825531038c7c51d96ee68e1de15b8d87f26b79f2652ce"
 },
 "nbformat": 3,
 "nbformat_minor": 0,
 "worksheets": [
  {
   "cells": [
    {
     "cell_type": "code",
     "collapsed": false,
     "input": [
      "Q2  without any bias terms x0"
     ],
     "language": "python",
     "metadata": {},
     "outputs": []
    },
    {
     "cell_type": "code",
     "collapsed": false,
     "input": [
      "(10)*36+(36)*1"
     ],
     "language": "python",
     "metadata": {},
     "outputs": [
      {
       "metadata": {},
       "output_type": "pyout",
       "prompt_number": 3,
       "text": [
        "396"
       ]
      }
     ],
     "prompt_number": 3
    },
    {
     "cell_type": "code",
     "collapsed": false,
     "input": [
      "(10)*1+(1)*1*36"
     ],
     "language": "python",
     "metadata": {},
     "outputs": [
      {
       "metadata": {},
       "output_type": "pyout",
       "prompt_number": 4,
       "text": [
        "46"
       ]
      }
     ],
     "prompt_number": 4
    },
    {
     "cell_type": "code",
     "collapsed": false,
     "input": [
      "10*18+18*18+18*1"
     ],
     "language": "python",
     "metadata": {},
     "outputs": [
      {
       "metadata": {},
       "output_type": "pyout",
       "prompt_number": 5,
       "text": [
        "522"
       ]
      }
     ],
     "prompt_number": 5
    },
    {
     "cell_type": "code",
     "collapsed": false,
     "input": [
      "10*9+9*9*3+9*1"
     ],
     "language": "python",
     "metadata": {},
     "outputs": [
      {
       "metadata": {},
       "output_type": "pyout",
       "prompt_number": 7,
       "text": [
        "342"
       ]
      }
     ],
     "prompt_number": 7
    },
    {
     "cell_type": "heading",
     "level": 3,
     "metadata": {},
     "source": [
      "Q11 Experiment with Backprop neural Network "
     ]
    },
    {
     "cell_type": "code",
     "collapsed": false,
     "input": [
      "%matplotlib inline\n",
      "import matplotlib.pyplot as plt\n",
      "import numpy as np\n",
      "import random\n",
      "import csv"
     ],
     "language": "python",
     "metadata": {},
     "outputs": [],
     "prompt_number": 31
    },
    {
     "cell_type": "code",
     "collapsed": false,
     "input": [
      "train_data = np.array(list(csv.reader(open('hw4_nnet_train.dat', 'r'), delimiter=' ')))\n",
      "test_data = np.array(list(csv.reader(open('hw4_nnet_test.dat', 'r'), delimiter=' ')))\n",
      "print len(train_data)\n",
      "print len(test_data)\n",
      "print train_data[0]\n",
      "print test_data[0]"
     ],
     "language": "python",
     "metadata": {},
     "outputs": [
      {
       "output_type": "stream",
       "stream": "stdout",
       "text": [
        "25\n",
        "250\n",
        "['-0.77947' '0.838221' '1']\n",
        "['-0.106006' '-0.081467' '-1']\n"
       ]
      }
     ],
     "prompt_number": 32
    },
    {
     "cell_type": "code",
     "collapsed": false,
     "input": [
      "#n = random.randint(0, 24)\n",
      "#print train_data[n]\n",
      "#x = [1, float(train_data[n][0]), float(train_data[n][1])]\n",
      "#print x\n",
      "print np.random.uniform(-0.1, 0.1, [2,3])"
     ],
     "language": "python",
     "metadata": {},
     "outputs": [
      {
       "output_type": "stream",
       "stream": "stdout",
       "text": [
        "[[-0.0121464  -0.02488634  0.02423583]\n",
        " [ 0.02812731 -0.06950254  0.09578147]]\n"
       ]
      }
     ],
     "prompt_number": 3
    },
    {
     "cell_type": "markdown",
     "metadata": {},
     "source": [
      "Fix \u03b7=0.1 and r=0.1. Then, consider M\u2208{1,6,11,16,21} \n",
      "the elements of w(\u2113)ij chosen independently and uniformly from the range (\u2212r,r)"
     ]
    },
    {
     "cell_type": "code",
     "collapsed": false,
     "input": [
      "def initw(r, A, B):\n",
      "    return np.random.uniform(-r, r, [A, B])"
     ],
     "language": "python",
     "metadata": {},
     "outputs": [],
     "prompt_number": 33
    },
    {
     "cell_type": "code",
     "collapsed": false,
     "input": [
      "initw(0.1,3,6)"
     ],
     "language": "python",
     "metadata": {},
     "outputs": [
      {
       "metadata": {},
       "output_type": "pyout",
       "prompt_number": 6,
       "text": [
        "array([[ 0.05135416, -0.00036342,  0.09484364, -0.07900007,  0.04150996,\n",
        "        -0.06804427],\n",
        "       [ 0.07463459,  0.08479118, -0.01740618,  0.08893078, -0.07922101,\n",
        "         0.07509644],\n",
        "       [ 0.00645373, -0.03509989, -0.06859173, -0.05559616, -0.04281575,\n",
        "         0.06361934]])"
       ]
      }
     ],
     "prompt_number": 6
    },
    {
     "cell_type": "code",
     "collapsed": false,
     "input": [
      "w1 = initw(0.1, 2+1, 6)\n",
      "w2 = initw(0.1, 6+1, 1)\n",
      "print w1.shape\n",
      "print w2.shape\n",
      "\n",
      "#print w2\n",
      "#print w2[1:]\n",
      "#print np.dot(1 - np.tanh(s1)**2, w2[1:])\n",
      "#x0 = [1, float(train_data[1][0]), float(train_data[1][1])]\n",
      "#print np.array(x0).reshape(3,1)\n",
      "#x0 = np.array(x0)\n",
      "#print x0.shape\n",
      "#x1 = np.dot(x0, w1)\n",
      "#print \"x1 =\", x1, x1.shape\n",
      "#print np.array([1] + x1.tolist())"
     ],
     "language": "python",
     "metadata": {},
     "outputs": [
      {
       "output_type": "stream",
       "stream": "stdout",
       "text": [
        "(3, 6)\n",
        "(7, 1)\n"
       ]
      }
     ],
     "prompt_number": 7
    },
    {
     "cell_type": "markdown",
     "metadata": {},
     "source": [
      "Computet all $$x_i^{(1)}, x_i^{(2)}$$ with $$\\mathbf{x}^{(0)} = \\mathbf{x}_n$$"
     ]
    },
    {
     "cell_type": "code",
     "collapsed": false,
     "input": [
      "def forward(n, x0, w1, w2):\n",
      "    # Layer 1\n",
      "    s1 = np.dot(x0, w1)    \n",
      "    x1 = np.tanh(s1)\n",
      "    x1 = [1.0] + x1.tolist()\n",
      "    \n",
      "    # Layer 2\n",
      "    s2 = np.dot(x1, w2)\n",
      "    x2 = np.tanh(s2)\n",
      "\n",
      "    return (x1, x2, s1, s2)"
     ],
     "language": "python",
     "metadata": {},
     "outputs": [],
     "prompt_number": 34
    },
    {
     "cell_type": "markdown",
     "metadata": {},
     "source": [
      "$$\\delta^{(1)}$$ should be dimension 1 x M and $$\\delta^{(2)}$$ should be dimension 1 x 1"
     ]
    },
    {
     "cell_type": "code",
     "collapsed": false,
     "input": [
      "def backward(n, s1, s2, w1, w2):\n",
      "    yn = int(train_data[n][2])\n",
      "    \n",
      "    # Layer 2\n",
      "    delta2 = -2 * (yn - np.tanh(s2)) * (1 - np.tanh(s2)**2)\n",
      "    \n",
      "    # Layer 1\n",
      "    delta1 = []\n",
      "        \n",
      "    for j in xrange(len(s2)):\n",
      "        delta = delta2 * w2[j+1] * (1 - np.tanh(s1)**2)\n",
      "        delta1.append(delta)\n",
      "            \n",
      "    return (np.array(delta1), np.array([delta2]))"
     ],
     "language": "python",
     "metadata": {},
     "outputs": [],
     "prompt_number": 35
    },
    {
     "cell_type": "code",
     "collapsed": false,
     "input": [
      "def sign(x):\n",
      "    if x > 0:\n",
      "        return 1\n",
      "    else:\n",
      "        return -1"
     ],
     "language": "python",
     "metadata": {},
     "outputs": [],
     "prompt_number": 36
    },
    {
     "cell_type": "code",
     "collapsed": false,
     "input": [
      "def Eout(w1, w2, d, M):\n",
      "    error = 0\n",
      "    for i in xrange(len(test_data)):\n",
      "        \n",
      "        x = [1.0, float(test_data[i][0]), float(test_data[i][1])]\n",
      "        x1 = np.array(x).reshape(1, d + 1)\n",
      "        \n",
      "        layer1 = np.tanh(np.dot(x1, w1))\n",
      "        \n",
      "        x = np.append([1.0], layer1[0])\n",
      "        x2 = np.array(x).reshape(1, M + 1)\n",
      "        \n",
      "        g = np.tanh(np.dot(x2, w2))[0][0]\n",
      "        \n",
      "        if sign(g) != int(test_data[i][2]):\n",
      "            error = error + 1\n",
      "            \n",
      "    return error*1.0/len(test_data)"
     ],
     "language": "python",
     "metadata": {},
     "outputs": [],
     "prompt_number": 37
    },
    {
     "cell_type": "code",
     "collapsed": false,
     "input": [
      "def backprop(T, d, M, ita, r):\n",
      "    w1 = initw(r, d + 1, M)\n",
      "    w2 = initw(r, M + 1, 1)\n",
      "\n",
      "    for t in xrange(T):\n",
      "        n = np.random.randint(0, len(train_data))\n",
      "        \n",
      "        # Layer 0\n",
      "        x0 = [1.0, float(train_data[n][0]), float(train_data[n][1])]\n",
      "\n",
      "        # calculate x\n",
      "        (x1, x2, s1, s2) = forward(n, x0, w1, w2)\n",
      "    \n",
      "        # calculate delta\n",
      "        (delta1, delta2) = backward(n, s1, s2, w1, w2)\n",
      "        \n",
      "        x0 = np.array(x0).reshape(d + 1, 1)\n",
      "        w1 = w1 - ita * np.dot(x0, delta1)\n",
      "        #print \"w1 =\", w1\n",
      "        \n",
      "        x1 = np.array(x1).reshape(M + 1, 1)\n",
      "        w2 = w2 - ita * np.dot(x1, delta2)\n",
      "        #print \"w2 =\", w2\n",
      "        \n",
      "    eout = Eout(w1, w2, d, M)\n",
      "    #print \"M =\", M, \", r =\", r, \", ita =\", ita,\", Eout =\", eout\n",
      "    return eout"
     ],
     "language": "python",
     "metadata": {},
     "outputs": [],
     "prompt_number": 38
    },
    {
     "cell_type": "code",
     "collapsed": false,
     "input": [
      "T = 50000\n",
      "d = 2\n",
      "r = 0.1\n",
      "ita = 0.1\n",
      "m_list = [1, 6, 11, 16, 21]\n",
      "count = 500\n",
      "Err = np.full((count, 5), 0)\n",
      "for t in xrange(count):\n",
      "    for j in xrange(5):\n",
      "        m = m_list[j]\n",
      "        Err[t][j] = backprop(T, d, m, ita, r)\n",
      "print \"M = 1, avg Eout =\", np.mean(Err[:,0])\n",
      "print \"M = 6, avg Eout =\", np.mean(Err[:,1])\n",
      "print \"M = 11, avg Eout =\", np.mean(Err[:,2])\n",
      "print \"M = 16, avg Eout =\", np.mean(Err[:,3])\n",
      "print \"M = 21, avg Eout =\", np.mean(Err[:,4])"
     ],
     "language": "python",
     "metadata": {},
     "outputs": [
      {
       "output_type": "stream",
       "stream": "stdout",
       "text": [
        "M = 1, avg Eout = 0.296272\n",
        "M = 6, avg Eout = 0.2028\n",
        "M = 11, avg Eout = 0.300256\n",
        "M = 16, avg Eout = 0.34244\n",
        "M = 21, avg Eout = 0.359432\n"
       ]
      }
     ],
     "prompt_number": 13
    },
    {
     "cell_type": "heading",
     "level": 3,
     "metadata": {},
     "source": [
      "Q12"
     ]
    },
    {
     "cell_type": "code",
     "collapsed": false,
     "input": [
      "T = 1000 \n",
      "M = 3\n",
      "d = 2\n",
      "ita = 0.1\n",
      "r_list = [0,0.001,0.1,10,1000]\n",
      "\n",
      "count = 80\n",
      "Err = np.full((count, 5), 0)\n",
      "for t in xrange(count):\n",
      "    for j in xrange(5):\n",
      "        r = r_list[j]\n",
      "        Err[t][j] = backprop(T, d, M, ita, r)\n",
      "print \"r = 0, avg Eout =\", np.mean(Err[:,0])\n",
      "print \"r = 0.001, avg Eout =\", np.mean(Err[:,1])\n",
      "print \"r = 0.1, avg Eout =\", np.mean(Err[:,2])\n",
      "print \"r = 10, avg Eout =\", np.mean(Err[:,3])\n",
      "print \"r = 1000, avg Eout =\", np.mean(Err[:,4])"
     ],
     "language": "python",
     "metadata": {},
     "outputs": [
      {
       "output_type": "stream",
       "stream": "stdout",
       "text": [
        "r = 0, avg Eout = 0.4916\n",
        "r = 0.001, avg Eout = 0.4794\n",
        "r = 0.1, avg Eout = 0.3877\n",
        "r = 10, avg Eout = 0.44535\n",
        "r = 1000, avg Eout = 0.48705\n"
       ]
      }
     ],
     "prompt_number": 30
    },
    {
     "cell_type": "heading",
     "level": 3,
     "metadata": {},
     "source": [
      "Q13"
     ]
    },
    {
     "cell_type": "code",
     "collapsed": false,
     "input": [
      "T = 50000  \n",
      "M = 3\n",
      "d = 2\n",
      "r = 0.1\n",
      "ita_list = [0.001, 0.01, 0.1, 1, 10]\n",
      "count = 500\n",
      "Err = np.full((count, 5), 0)\n",
      "for t in xrange(count):\n",
      "    for j in xrange(5):\n",
      "        ita = ita_list[j]\n",
      "        Err[t][j] = backprop(T, d, M, ita, r)\n",
      "#print Err\n",
      "print \"ita = 0.001, avg Eout =\", np.mean(Err[:,0])\n",
      "print \"ita = 0.01, avg Eout =\", np.mean(Err[:,1])\n",
      "print \"ita = 0.1, avg Eout =\", np.mean(Err[:,2])\n",
      "print \"ita = 1, avg Eout =\", np.mean(Err[:,3])\n",
      "print \"ita = 10, avg Eout =\", np.mean(Err[:,4])"
     ],
     "language": "python",
     "metadata": {},
     "outputs": [
      {
       "output_type": "stream",
       "stream": "stdout",
       "text": [
        "ita = 0.001, avg Eout = 0.352328\n",
        "ita = 0.01, avg Eout = 0.130496\n",
        "ita = 0.1, avg Eout = 0.181224\n",
        "ita = 1, avg Eout = 0.470008\n",
        "ita = 10, avg Eout = 0.49552\n"
       ]
      }
     ],
     "prompt_number": 39
    },
    {
     "cell_type": "heading",
     "level": 3,
     "metadata": {},
     "source": [
      "Question 14"
     ]
    },
    {
     "cell_type": "code",
     "collapsed": false,
     "input": [
      "T = 50000 \n",
      "M = 6\n",
      "d = 2\n",
      "r = 0.1\n",
      "ita = 0.01\n",
      "print backprop(T, d, M, ita, r)/len(test_data)"
     ],
     "language": "python",
     "metadata": {},
     "outputs": [
      {
       "output_type": "stream",
       "stream": "stdout",
       "text": [
        "0.109224905975\n"
       ]
      }
     ],
     "prompt_number": 253
    },
    {
     "cell_type": "code",
     "collapsed": false,
     "input": [],
     "language": "python",
     "metadata": {},
     "outputs": []
    },
    {
     "cell_type": "code",
     "collapsed": false,
     "input": [],
     "language": "python",
     "metadata": {},
     "outputs": []
    },
    {
     "cell_type": "code",
     "collapsed": false,
     "input": [],
     "language": "python",
     "metadata": {},
     "outputs": []
    }
   ],
   "metadata": {}
  }
 ]
}