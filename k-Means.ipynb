{
 "metadata": {
  "name": "",
  "signature": "sha256:82c51cd24b34e09b35f6760dd4fd85f496e5a4b48c669805c5a69fdf9631df03"
 },
 "nbformat": 3,
 "nbformat_minor": 0,
 "worksheets": [
  {
   "cells": [
    {
     "cell_type": "code",
     "collapsed": false,
     "input": [
      "%matplotlib inline\n",
      "import matplotlib.pyplot as plt\n",
      "import numpy as np\n",
      "import random\n",
      "import csv"
     ],
     "language": "python",
     "metadata": {},
     "outputs": [],
     "prompt_number": 1
    },
    {
     "cell_type": "code",
     "collapsed": false,
     "input": [
      "train_data = np.array(list(csv.reader(open('hw4_kmeans_train.dat', 'r'), delimiter=' ')))\n",
      "print len(train_data)\n",
      "print train_data[1]"
     ],
     "language": "python",
     "metadata": {},
     "outputs": [
      {
       "output_type": "stream",
       "stream": "stdout",
       "text": [
        "100\n",
        "['-0.6273' '-0.2097' '0.9404' '0.1143' '0.3487' '-0.5206' '0.0061' '0.5024'\n",
        " '-0.6687' '']\n"
       ]
      }
     ],
     "prompt_number": 4
    },
    {
     "cell_type": "heading",
     "level": 3,
     "metadata": {},
     "source": [
      "Q19 Experiment with k-Means"
     ]
    },
    {
     "cell_type": "code",
     "collapsed": false,
     "input": [
      "def k_means(k, T):\n",
      "    # init mu\n",
      "    mu = []\n",
      "    for i in xrange(k):\n",
      "        j = random.randint(0, k - 1)\n",
      "        mu.append(train_data[j])\n",
      "    \n",
      "    # alternating optimization\n",
      "    # until converage\n",
      "        # partition all points\n",
      "        \n",
      "        # re-calculate mu\n",
      "        \n",
      "        "
     ],
     "language": "python",
     "metadata": {},
     "outputs": [
      {
       "ename": "SyntaxError",
       "evalue": "invalid syntax (<ipython-input-3-c308dbc923f3>, line 1)",
       "output_type": "pyerr",
       "traceback": [
        "\u001b[0;36m  File \u001b[0;32m\"<ipython-input-3-c308dbc923f3>\"\u001b[0;36m, line \u001b[0;32m1\u001b[0m\n\u001b[0;31m    def k-means():\u001b[0m\n\u001b[0m         ^\u001b[0m\n\u001b[0;31mSyntaxError\u001b[0m\u001b[0;31m:\u001b[0m invalid syntax\n"
       ]
      }
     ],
     "prompt_number": 3
    },
    {
     "cell_type": "code",
     "collapsed": false,
     "input": [],
     "language": "python",
     "metadata": {},
     "outputs": []
    }
   ],
   "metadata": {}
  }
 ]
}