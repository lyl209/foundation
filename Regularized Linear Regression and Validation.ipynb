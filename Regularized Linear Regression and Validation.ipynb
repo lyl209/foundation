{
 "metadata": {
  "name": "",
  "signature": "sha256:23dee51319908c81b0b07d3e2121fa22d0c32d07de944f73f6e1f023231d77a2"
 },
 "nbformat": 3,
 "nbformat_minor": 0,
 "worksheets": [
  {
   "cells": [
    {
     "cell_type": "code",
     "collapsed": false,
     "input": [
      "%matplotlib inline\n",
      "import matplotlib.pyplot as plt\n",
      "import numpy as np\n",
      "import random\n",
      "import csv"
     ],
     "language": "python",
     "metadata": {},
     "outputs": [],
     "prompt_number": 1
    },
    {
     "cell_type": "code",
     "collapsed": false,
     "input": [
      "def sign(x):\n",
      "    if x > 0:\n",
      "        return 1\n",
      "    else:\n",
      "        return -1"
     ],
     "language": "python",
     "metadata": {},
     "outputs": [],
     "prompt_number": 109
    },
    {
     "cell_type": "code",
     "collapsed": false,
     "input": [
      "def Ein(w, X, Y, N):\n",
      "    e = 0\n",
      "    for i in xrange(N):\n",
      "        if sign(w.dot(X[i])) != Y[i]:\n",
      "            e = e + 1\n",
      "    return e"
     ],
     "language": "python",
     "metadata": {},
     "outputs": [],
     "prompt_number": 110
    },
    {
     "cell_type": "code",
     "collapsed": false,
     "input": [
      "train_data = np.array(list(csv.reader(open('ntumlone-hw4-hw4_train.dat', 'r'), delimiter=' ')))\n",
      "test_data = np.array(list(csv.reader(open('ntumlone-hw4-hw4_test.dat', 'r'), delimiter=' ')))\n",
      "print len(train_data)\n",
      "print len(test_data)"
     ],
     "language": "python",
     "metadata": {},
     "outputs": [
      {
       "output_type": "stream",
       "stream": "stdout",
       "text": [
        "200\n",
        "1000\n"
       ]
      }
     ],
     "prompt_number": 111
    },
    {
     "cell_type": "code",
     "collapsed": false,
     "input": [
      "print train_data[0]\n",
      "print test_data[0]"
     ],
     "language": "python",
     "metadata": {},
     "outputs": [
      {
       "output_type": "stream",
       "stream": "stdout",
       "text": [
        "['0.568304' '0.568283' '1']\n",
        "['0.731977' '0.731978' '1']\n"
       ]
      }
     ],
     "prompt_number": 112
    },
    {
     "cell_type": "heading",
     "level": 3,
     "metadata": {},
     "source": [
      "Q13 Experiment with Regularized Linear Regression and Validation "
     ]
    },
    {
     "cell_type": "code",
     "collapsed": false,
     "input": [
      "def CalculateError(lamda):\n",
      "    X = []\n",
      "    Y = []\n",
      "    for d in train_data:\n",
      "        a = [1]\n",
      "        a.append(float(d[0]))\n",
      "        a.append(float(d[1]))\n",
      "        X.append(a)\n",
      "\n",
      "        y = int(d[2])\n",
      "        Y.append(y)\n",
      "\n",
      "    w = Wreg(X, Y, 3, lamda);\n",
      "\n",
      "    err = Ein(w, X, Y, 200)\n",
      "    print \"Ein =\", err*1.0 / 200\n",
      "    \n",
      "    err = Eout(w, 1000)    \n",
      "    print \"Eout =\", err*1.0 / 1000"
     ],
     "language": "python",
     "metadata": {},
     "outputs": [],
     "prompt_number": 124
    },
    {
     "cell_type": "code",
     "collapsed": false,
     "input": [
      "def Eout(wreg, N):\n",
      "    w = []\n",
      "    w.append(wreg.item((0, 0)))\n",
      "    w.append(wreg.item((0, 1)))\n",
      "    w.append(wreg.item((0, 2)))\n",
      "    \n",
      "    #print \"w =\", w\n",
      "    \n",
      "    eout = 0\n",
      "    for t in test_data:\n",
      "        y = int(t[2])\n",
      "        x = [1]\n",
      "        x.append(float(t[0]))\n",
      "        x.append(float(t[1]))\n",
      "        #print \"w =\", w\n",
      "        #print \"x =\", x\n",
      "        if sign(np.dot(w, x)) != y:\n",
      "            eout = eout + 1\n",
      "\n",
      "    return eout"
     ],
     "language": "python",
     "metadata": {},
     "outputs": [],
     "prompt_number": 113
    },
    {
     "cell_type": "code",
     "collapsed": false,
     "input": [
      "def Wreg(Z, Y, N, lamda):\n",
      "    Z = np.matrix(Z)\n",
      "    M = np.matrix.transpose(Z)*Z\n",
      "    M = M + lamda * np.identity(N)\n",
      "    \n",
      "    inv = np.linalg.inv(M)\n",
      "    return np.dot(np.dot(inv, np.matrix.transpose(Z)), Y)"
     ],
     "language": "python",
     "metadata": {},
     "outputs": [],
     "prompt_number": 114
    },
    {
     "cell_type": "heading",
     "level": 3,
     "metadata": {},
     "source": [
      "Q14 Choose lamda"
     ]
    },
    {
     "cell_type": "code",
     "collapsed": false,
     "input": [
      "lamda = [0,-2,-4,-6,-8]\n",
      "\n",
      "for l in lamda:\n",
      "    p = 10**l\n",
      "    print \"LAMDA\", l\n",
      "    CalculateError(p)"
     ],
     "language": "python",
     "metadata": {},
     "outputs": [
      {
       "output_type": "stream",
       "stream": "stdout",
       "text": [
        "LAMDA 0\n",
        "Ein = 0.035\n",
        "Eout = 0.02\n",
        "LAMDA -2\n",
        "Ein = 0.03\n",
        "Eout = 0.016\n",
        "LAMDA -4\n",
        "Ein = 0.03\n",
        "Eout = 0.016\n",
        "LAMDA -6\n",
        "Ein = 0.035\n",
        "Eout ="
       ]
      },
      {
       "output_type": "stream",
       "stream": "stdout",
       "text": [
        " 0.016\n",
        "LAMDA -8\n",
        "Ein = 0.015\n",
        "Eout = 0.02\n"
       ]
      }
     ],
     "prompt_number": 165
    },
    {
     "cell_type": "heading",
     "level": 3,
     "metadata": {},
     "source": [
      "Q16 Validation"
     ]
    },
    {
     "cell_type": "code",
     "collapsed": false,
     "input": [
      "def CalculateValidationError(lamda):\n",
      "    X = []\n",
      "    Y = []\n",
      "    # split train set and validation set\n",
      "    train = train_data[0:120]\n",
      "    valid = train_data[120:]\n",
      "    \n",
      "    for d in train:\n",
      "        a = [1]\n",
      "        a.append(float(d[0]))\n",
      "        a.append(float(d[1]))\n",
      "        X.append(a)\n",
      "\n",
      "        y = int(d[2])\n",
      "        Y.append(y)\n",
      "\n",
      "    w = Wreg(X, Y, 3, lamda);\n",
      "\n",
      "    err = Ein(w, X, Y, 120)\n",
      "    print \"Ein =\", err*1.0 / 120\n",
      "\n",
      "    X = []\n",
      "    Y = []\n",
      "\n",
      "    for d in valid:\n",
      "        a = [1]\n",
      "        a.append(float(d[0]))\n",
      "        a.append(float(d[1]))\n",
      "        X.append(a)\n",
      "\n",
      "        y = int(d[2])\n",
      "        Y.append(y)\n",
      "\n",
      "    err = Ein(w, X, Y, 80)\n",
      "    print \"Eval = \", err *1.0 / 80\n",
      "    \n",
      "    err = Eout(w, 1000)    \n",
      "    print \"Eout =\", err*1.0 / 1000"
     ],
     "language": "python",
     "metadata": {},
     "outputs": [],
     "prompt_number": 121
    },
    {
     "cell_type": "code",
     "collapsed": false,
     "input": [
      "fold = 1\n",
      "start = fold * 40\n",
      "train = np.concatenate((train_data[0:start], train_data[start:start+40]))\n",
      "\n",
      "\n",
      "print train\n",
      "#print valid\n"
     ],
     "language": "python",
     "metadata": {},
     "outputs": [
      {
       "output_type": "stream",
       "stream": "stdout",
       "text": [
        "[['0.568304' '0.568283' '1']\n",
        " ['0.310968' '0.310956' '-1']\n",
        " ['0.103376' '0.103373' '-1']\n",
        " ['0.0531882' '0.053218' '-1']\n",
        " ['0.97006' '0.970064' '1']\n",
        " ['0.0941873' '0.0941707' '-1']\n",
        " ['0.655902' '0.655892' '1']\n",
        " ['0.370821' '0.370839' '-1']\n",
        " ['0.558482' '0.558476' '1']\n",
        " ['0.849389' '0.849383' '1']\n",
        " ['0.796038' '0.796051' '1']\n",
        " ['0.723246' '0.723252' '1']\n",
        " ['0.571236' '0.571254' '1']\n",
        " ['0.385144' '0.38512' '-1']\n",
        " ['0.877176' '0.877168' '1']\n",
        " ['0.74655' '0.746552' '1']\n",
        " ['0.0676164' '0.0676087' '-1']\n",
        " ['0.0412524' '0.0412649' '-1']\n",
        " ['0.851637' '0.851661' '1']\n",
        " ['0.586989' '0.58698' '1']\n",
        " ['0.661014' '0.660994' '1']\n",
        " ['0.587988' '0.587968' '1']\n",
        " ['0.257615' '0.257628' '-1']\n",
        " ['0.680505' '0.680485' '1']\n",
        " ['0.895242' '0.895257' '1']\n",
        " ['0.381124' '0.381139' '-1']\n",
        " ['0.314332' '0.31433' '-1']\n",
        " ['0.157744' '0.157747' '-1']\n",
        " ['0.670923' '0.670925' '1']\n",
        " ['0.531716' '0.531736' '1']\n",
        " ['0.810956' '0.810938' '1']\n",
        " ['0.514937' '0.51493' '1']\n",
        " ['0.188567' '0.188587' '-1']\n",
        " ['0.778528' '0.778527' '1']\n",
        " ['0.904966' '0.904955' '1']\n",
        " ['0.563699' '0.563708' '1']\n",
        " ['0.599768' '0.59978' '1']\n",
        " ['0.619909' '0.619928' '1']\n",
        " ['0.650556' '0.650556' '1']\n",
        " ['0.131949' '0.131967' '-1']\n",
        " ['0.251546' '0.251546' '-1']\n",
        " ['0.690874' '0.690863' '1']\n",
        " ['0.381249' '0.381284' '-1']\n",
        " ['0.559231' '0.559232' '1']\n",
        " ['0.197361' '0.197367' '-1']\n",
        " ['0.784776' '0.784781' '1']\n",
        " ['0.620494' '0.620499' '1']\n",
        " ['0.229646' '0.229647' '-1']\n",
        " ['0.0891466' '0.0891438' '-1']\n",
        " ['0.981857' '0.981861' '1']\n",
        " ['0.64711' '0.647102' '1']\n",
        " ['0.725596' '0.725592' '1']\n",
        " ['0.614771' '0.614764' '1']\n",
        " ['0.976315' '0.976321' '1']\n",
        " ['0.250716' '0.250708' '-1']\n",
        " ['0.281071' '0.281096' '-1']\n",
        " ['0.550196' '0.550187' '1']\n",
        " ['0.955756' '0.955751' '1']\n",
        " ['0.251821' '0.251838' '-1']\n",
        " ['0.538196' '0.538183' '1']\n",
        " ['0.58285' '0.582836' '1']\n",
        " ['0.48367' '0.48368' '-1']\n",
        " ['0.481451' '0.481471' '-1']\n",
        " ['0.291576' '0.291561' '-1']\n",
        " ['0.181592' '0.181596' '-1']\n",
        " ['0.232746' '0.232759' '-1']\n",
        " ['0.488322' '0.488349' '-1']\n",
        " ['0.664499' '0.664487' '1']\n",
        " ['0.0420094' '0.0420475' '-1']\n",
        " ['0.950521' '0.950524' '1']\n",
        " ['0.445707' '0.445706' '-1']\n",
        " ['0.430385' '0.430396' '-1']\n",
        " ['0.747574' '0.747583' '1']\n",
        " ['0.245047' '0.245078' '-1']\n",
        " ['0.742838' '0.742833' '1']\n",
        " ['0.284625' '0.284627' '-1']\n",
        " ['0.0613909' '0.061374' '-1']\n",
        " ['0.612767' '0.612754' '1']\n",
        " ['0.378545' '0.378555' '-1']\n",
        " ['0.818764' '0.818763' '1']]\n"
       ]
      }
     ],
     "prompt_number": 138
    },
    {
     "cell_type": "code",
     "collapsed": false,
     "input": [
      "lamda = [0, -3,-6,-8,-9]\n",
      "\n",
      "for l in lamda:\n",
      "    p = 10**l\n",
      "    print \"LAMDA\", l\n",
      "    CalculateValidationError(p)"
     ],
     "language": "python",
     "metadata": {},
     "outputs": [
      {
       "output_type": "stream",
       "stream": "stdout",
       "text": [
        "LAMDA 0\n",
        "Ein = 0.0333333333333\n",
        "Eval =  0.0375\n",
        "Eout = 0.028\n",
        "LAMDA -3\n",
        "Ein = 0.0333333333333\n",
        "Eval =  0.0375\n",
        "Eout = 0.021\n",
        "LAMDA -6\n",
        "Ein = 0.0333333333333\n",
        "Eval =  0.0375\n",
        "Eout = 0.021\n",
        "LAMDA -8\n",
        "Ein ="
       ]
      },
      {
       "output_type": "stream",
       "stream": "stdout",
       "text": [
        " 0.0\n",
        "Eval =  0.05\n",
        "Eout = 0.025\n",
        "LAMDA -9\n",
        "Ein = 0.0\n",
        "Eval =  0.1\n",
        "Eout = 0.038\n"
       ]
      }
     ],
     "prompt_number": 123
    },
    {
     "cell_type": "code",
     "collapsed": false,
     "input": [
      "CalculateError(0)"
     ],
     "language": "python",
     "metadata": {},
     "outputs": [
      {
       "output_type": "stream",
       "stream": "stdout",
       "text": [
        "Ein = 0.015\n",
        "Eout = 0.02\n"
       ]
      }
     ],
     "prompt_number": 125
    },
    {
     "cell_type": "heading",
     "level": 3,
     "metadata": {},
     "source": [
      "Q19 Cross Validation"
     ]
    },
    {
     "cell_type": "code",
     "collapsed": false,
     "input": [
      "def CrossValidation(lamda, fold):\n",
      "    #print \"lamda =\", lamda, \"fold =\", fold\n",
      "    X = []\n",
      "    Y = []\n",
      "    \n",
      "    # split train set and validation set\n",
      "    start = fold * 40\n",
      "    #print \"train is [ 0 :\" , start , \"] and [\" , (start + 40) , \":]\"\n",
      "    \n",
      "    train = np.concatenate((train_data[0:start], train_data[start+40:]))\n",
      "    \n",
      "    #print \"validate is [\" , start , \":\" , (start + 40) , \"]\"\n",
      "    \n",
      "    valid = train_data[start:start+40]\n",
      "\n",
      "    #print \"train size\", len(train), \"validation size\", len(valid)\n",
      "\n",
      "    for d in train:\n",
      "        a = [1]\n",
      "        a.append(float(d[0]))\n",
      "        a.append(float(d[1]))\n",
      "        X.append(a)\n",
      "\n",
      "        y = int(d[2])\n",
      "        Y.append(y)\n",
      "\n",
      "    w = Wreg(X, Y, 3, lamda);\n",
      "\n",
      "    X = []\n",
      "    Y = []\n",
      "\n",
      "    for d in valid:\n",
      "        a = [1]\n",
      "        a.append(float(d[0]))\n",
      "        a.append(float(d[1]))\n",
      "        X.append(a)\n",
      "\n",
      "        y = int(d[2])\n",
      "        Y.append(y)\n",
      "\n",
      "    err = Ein(w, X, Y, 40)\n",
      "    Eval = err *1.0 / 40\n",
      "    \n",
      "    return Eval\n"
     ],
     "language": "python",
     "metadata": {},
     "outputs": [],
     "prompt_number": 162
    },
    {
     "cell_type": "code",
     "collapsed": false,
     "input": [
      "lamda = [0,-2,-4,-6,-8]\n",
      "\n",
      "for l in lamda:\n",
      "    p = 10**l\n",
      "    print \"LAMDA\", l\n",
      "    err = 0\n",
      "    for fold in xrange(5):\n",
      "        err = err + CrossValidation(l, fold)\n",
      "    print \"Ecv =\", err / 5.\n",
      "    "
     ],
     "language": "python",
     "metadata": {},
     "outputs": [
      {
       "output_type": "stream",
       "stream": "stdout",
       "text": [
        "LAMDA 0\n",
        "Ecv = 0.05\n",
        "LAMDA -2\n",
        "Ecv = 0.015\n",
        "LAMDA -4\n",
        "Ecv = 0.0\n",
        "LAMDA -6\n",
        "Ecv = 0.035\n",
        "LAMDA -8\n",
        "Ecv = 0.035\n"
       ]
      }
     ],
     "prompt_number": 163
    },
    {
     "cell_type": "code",
     "collapsed": false,
     "input": [],
     "language": "python",
     "metadata": {},
     "outputs": []
    }
   ],
   "metadata": {}
  }
 ]
}