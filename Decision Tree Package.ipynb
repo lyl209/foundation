{
 "metadata": {
  "name": "",
  "signature": "sha256:07813bb6bb514a577b6d95beed0e22026ede257640edbad9610562adce26c1e3"
 },
 "nbformat": 3,
 "nbformat_minor": 0,
 "worksheets": [
  {
   "cells": [
    {
     "cell_type": "code",
     "collapsed": false,
     "input": [
      "from sklearn import tree\n",
      "%matplotlib inline\n",
      "import matplotlib.pyplot as plt\n",
      "import numpy as np\n",
      "import random\n",
      "import csv"
     ],
     "language": "python",
     "metadata": {},
     "outputs": [],
     "prompt_number": 1
    },
    {
     "cell_type": "code",
     "collapsed": false,
     "input": [
      "train_data = np.array(list(csv.reader(open('hw3_train.dat', 'r'), delimiter=' ')))\n",
      "test_data = np.array(list(csv.reader(open('hw3_test.dat', 'r'), delimiter=' ')))\n",
      "print len(train_data)\n",
      "print len(test_data)\n",
      "print train_data[0:5]\n",
      "print test_data[0]"
     ],
     "language": "python",
     "metadata": {},
     "outputs": [
      {
       "output_type": "stream",
       "stream": "stdout",
       "text": [
        "100\n",
        "1000\n",
        "[['0.757222' '0.633831' '-1']\n",
        " ['0.847382' '0.281581' '-1']\n",
        " ['0.24931' '0.618635' '+1']\n",
        " ['0.538526' '0.144259' '-1']\n",
        " ['0.474435' '0.414558' '-1']]\n",
        "['0.98425' '0.71261' '-1']\n"
       ]
      }
     ],
     "prompt_number": 2
    },
    {
     "cell_type": "code",
     "collapsed": false,
     "input": [
      "Y = map(int, train_data[:,2])"
     ],
     "language": "python",
     "metadata": {},
     "outputs": [],
     "prompt_number": 3
    },
    {
     "cell_type": "code",
     "collapsed": false,
     "input": [
      "x1 = map(float, train_data[:,0])\n",
      "x2 = map(float, train_data[:,1])\n",
      "print train_data[0]\n",
      "print x1[0]\n",
      "print x2[0]\n",
      "X = np.column_stack([x1,x2])"
     ],
     "language": "python",
     "metadata": {},
     "outputs": [
      {
       "output_type": "stream",
       "stream": "stdout",
       "text": [
        "['0.757222' '0.633831' '-1']\n",
        "0.757222\n",
        "0.633831\n"
       ]
      }
     ],
     "prompt_number": 4
    },
    {
     "cell_type": "code",
     "collapsed": false,
     "input": [
      "clf = tree.DecisionTreeClassifier()\n",
      "clf = clf.fit(X, Y)"
     ],
     "language": "python",
     "metadata": {},
     "outputs": [],
     "prompt_number": 5
    },
    {
     "cell_type": "code",
     "collapsed": false,
     "input": [
      "clf"
     ],
     "language": "python",
     "metadata": {},
     "outputs": [
      {
       "metadata": {},
       "output_type": "pyout",
       "prompt_number": 16,
       "text": [
        "DecisionTreeClassifier(compute_importances=None, criterion='gini',\n",
        "            max_depth=None, max_features=None, min_density=None,\n",
        "            min_samples_leaf=1, min_samples_split=2, random_state=None,\n",
        "            splitter='best')"
       ]
      }
     ],
     "prompt_number": 16
    },
    {
     "cell_type": "code",
     "collapsed": false,
     "input": [],
     "language": "python",
     "metadata": {},
     "outputs": []
    }
   ],
   "metadata": {}
  }
 ]
}