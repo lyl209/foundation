{
 "metadata": {
  "name": "",
  "signature": "sha256:3748c1dbb286a14dbb490bb2b6df501413b4ed5486625b7732ba543f47f32b29"
 },
 "nbformat": 3,
 "nbformat_minor": 0,
 "worksheets": [
  {
   "cells": [
    {
     "cell_type": "heading",
     "level": 3,
     "metadata": {},
     "source": [
      "Q1 Triplet"
     ]
    },
    {
     "cell_type": "markdown",
     "metadata": {},
     "source": [
      "Given a array of positive integers, find all possible triangle triplets that can be formed from this array. \n",
      "eg: 9 8 10 7 \n",
      "ans: 9 8 10, 9 8 7, 9 10 7, 7 8 10 \n",
      "Note : array not sorted, there is no limit on the array length"
     ]
    },
    {
     "cell_type": "markdown",
     "metadata": {},
     "source": [
      "the sum of any 2 sides of a triangle must be greater than the measure of the third side..this is the inequality theorem that should be satisfied for a triangle"
     ]
    },
    {
     "cell_type": "code",
     "collapsed": false,
     "input": [
      "input = [10,2,45,5,61]\n",
      "count = 0\n",
      "size = len(input)\n",
      "sorted(input, reverse=True)\n",
      "print input\n",
      "\n",
      "for i in xrange(len(input)):\n",
      "    #print input[i]\n",
      "    for j in xrange(i+1, len(input)):\n",
      "        #print (input[i], input[j])\n",
      "        for k in xrange(j+1, len(input)):\n",
      "            if (input[i] + input[j]) > input[k]:\n",
      "                print (input[i], input[j], input[k])\n",
      "                count = count + 1\n",
      "            \n"
     ],
     "language": "python",
     "metadata": {},
     "outputs": [
      {
       "output_type": "stream",
       "stream": "stdout",
       "text": [
        "[10, 2, 45, 5, 61]\n",
        "(10, 2, 5)\n",
        "(10, 45, 5)\n",
        "(2, 45, 5)\n"
       ]
      }
     ],
     "prompt_number": 13
    },
    {
     "cell_type": "markdown",
     "metadata": {},
     "source": [
      "Sort: O(N lg N)\n",
      "For Loop: O(N^3)\n",
      "Overall: O(N^3)"
     ]
    },
    {
     "cell_type": "heading",
     "level": 3,
     "metadata": {},
     "source": [
      "Q2 Is input string a number?"
     ]
    },
    {
     "cell_type": "markdown",
     "metadata": {},
     "source": [
      "Write an function to judge whether the input String is a number? \n",
      "For example: \"-3.3425\",\"80.0\", both of them are number"
     ]
    },
    {
     "cell_type": "code",
     "collapsed": false,
     "input": [
      "def is_number(s):\n",
      "    chars = list(s)\n",
      "    # check negative\n",
      "    if len(chars) <= 0:\n",
      "        return False\n",
      "    \n",
      "    has_dot = False\n",
      "    \n",
      "    if chars[0] == '.':\n",
      "       has_dot = True \n",
      "    \n",
      "    if chars[0] != '.' and chars[0] != '-' and is_numeric(chars[0]) == False:\n",
      "        return False\n",
      "    \n",
      "\n",
      "    for i in xrange(1, len(chars)):        \n",
      "        \n",
      "        if chars[i] == \".\":\n",
      "            if has_dot:\n",
      "                return False\n",
      "            else:\n",
      "                has_dot = True\n",
      "                continue\n",
      "        \n",
      "        if is_numeric(chars[i]) == False:   \n",
      "            return False\n",
      "        \n",
      "    return True"
     ],
     "language": "python",
     "metadata": {},
     "outputs": [],
     "prompt_number": 37
    },
    {
     "cell_type": "code",
     "collapsed": false,
     "input": [
      "def is_numeric(c):\n",
      "    \n",
      "    v = ord(c)\n",
      "    ascii_0 = 48\n",
      "    ascii_9 = 57\n",
      "    \n",
      "    #print v, ascii_0, ascii_9\n",
      "    \n",
      "    if (v >= ascii_0 and v <= ascii_9):\n",
      "        return True\n",
      "    return False"
     ],
     "language": "python",
     "metadata": {},
     "outputs": [],
     "prompt_number": 31
    },
    {
     "cell_type": "code",
     "collapsed": false,
     "input": [
      "s = \"-.123333\"\n",
      "print s, \"is a number?\", is_number(s)\n"
     ],
     "language": "python",
     "metadata": {},
     "outputs": [
      {
       "output_type": "stream",
       "stream": "stdout",
       "text": [
        "-.123333 is a number? True\n"
       ]
      }
     ],
     "prompt_number": 39
    },
    {
     "cell_type": "markdown",
     "metadata": {},
     "source": [
      "better solution: regular exp"
     ]
    },
    {
     "cell_type": "code",
     "collapsed": false,
     "input": [
      "import re"
     ],
     "language": "python",
     "metadata": {},
     "outputs": [],
     "prompt_number": 44
    },
    {
     "cell_type": "code",
     "collapsed": false,
     "input": [
      "print re.match(r'[-\\.]?[0-9]+[\\.]?[0-9]+$', '-33')"
     ],
     "language": "python",
     "metadata": {},
     "outputs": [
      {
       "output_type": "stream",
       "stream": "stdout",
       "text": [
        "<_sre.SRE_Match object at 0x1049319f0>\n"
       ]
      }
     ],
     "prompt_number": 69
    },
    {
     "cell_type": "heading",
     "level": 3,
     "metadata": {},
     "source": [
      "Q3 Write a function to compute the maximum length palindromic sub-sequence of an array"
     ]
    },
    {
     "cell_type": "markdown",
     "metadata": {},
     "source": [
      "A palindrome is a sequence which is equal to its reverse. \n",
      "A sub-sequence of an array is a sequence which can be constructed by removing elements of the array. \n",
      "Ex: Given [4,1,2,3,4,5,6,5,4,3,4,4,4,4,4,4,4] should return 10 (all 4's) */ \n",
      "class Interview { \n",
      "public static int maxLengthPalindrome(int[] values) { \n",
      "//ur implementation here \n",
      "}"
     ]
    },
    {
     "cell_type": "code",
     "collapsed": false,
     "input": [],
     "language": "python",
     "metadata": {},
     "outputs": []
    }
   ],
   "metadata": {}
  }
 ]
}