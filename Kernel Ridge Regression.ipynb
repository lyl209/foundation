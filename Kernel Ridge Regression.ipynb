{
 "metadata": {
  "name": "",
  "signature": "sha256:ef6bf981c74575c1ef3323f5ea983f30b727789aad548e004794f438f5d099c1"
 },
 "nbformat": 3,
 "nbformat_minor": 0,
 "worksheets": [
  {
   "cells": [
    {
     "cell_type": "code",
     "collapsed": false,
     "input": [
      "%matplotlib inline\n",
      "import matplotlib.pyplot as plt\n",
      "import numpy as np\n",
      "import random\n",
      "import csv"
     ],
     "language": "python",
     "metadata": {},
     "outputs": [],
     "prompt_number": 1
    },
    {
     "cell_type": "code",
     "collapsed": false,
     "input": [
      "all_data = np.array(list(csv.reader(open('hw2_lssvm_all.dat', 'r'), delimiter=' ')))\n",
      "N = len(all_data)\n",
      "print N"
     ],
     "language": "python",
     "metadata": {},
     "outputs": [
      {
       "output_type": "stream",
       "stream": "stdout",
       "text": [
        "500\n"
       ]
      }
     ],
     "prompt_number": 2
    },
    {
     "cell_type": "code",
     "collapsed": false,
     "input": [
      "train_data = all_data[0:400]\n",
      "test_data = all_data[400:N]"
     ],
     "language": "python",
     "metadata": {},
     "outputs": [],
     "prompt_number": 3
    },
    {
     "cell_type": "code",
     "collapsed": false,
     "input": [
      "print \"TRAIN:\\n\", train_data[0:1]\n",
      "print \"TEST:\\n\", test_data[0:1]"
     ],
     "language": "python",
     "metadata": {},
     "outputs": [
      {
       "output_type": "stream",
       "stream": "stdout",
       "text": [
        "TRAIN:\n",
        "[['' '4.115' '5.020' '-7.879' '-11.780' '2.004' '-0.353' '-0.735' '3.561'\n",
        "  '2.441' '-9.822' '+1']]\n",
        "TEST:\n",
        "[['' '-2.602' '-6.676' '-3.787' '6.973' '0.450' '6.402' '-4.174' '3.608'\n",
        "  '1.688' '-10.028' '+1']]\n"
       ]
      }
     ],
     "prompt_number": 4
    },
    {
     "cell_type": "code",
     "collapsed": false,
     "input": [
      "def get_x(data):\n",
      "    r = []\n",
      "    for i in xrange(1, 12):        \n",
      "        col = map(float, data[:, i])\n",
      "        r.append(col)\n",
      "    x = np.array(r)\n",
      "    x = np.transpose(x)\n",
      "    return x"
     ],
     "language": "python",
     "metadata": {},
     "outputs": [],
     "prompt_number": 5
    },
    {
     "cell_type": "code",
     "collapsed": false,
     "input": [
      "def sign(x):\n",
      "    if x > 0:\n",
      "        return 1\n",
      "    else:\n",
      "        return -1"
     ],
     "language": "python",
     "metadata": {},
     "outputs": [
      {
       "output_type": "stream",
       "stream": "stdout",
       "text": [
        "\n"
       ]
      }
     ],
     "prompt_number": 15
    },
    {
     "cell_type": "code",
     "collapsed": false,
     "input": [
      "#map(float, train_data[:,2])"
     ],
     "language": "python",
     "metadata": {},
     "outputs": [],
     "prompt_number": 93
    },
    {
     "cell_type": "code",
     "collapsed": false,
     "input": [
      "def get_y(data):\n",
      "    y = map(int, data[:, 11])\n",
      "    y = [y]\n",
      "    y = np.transpose(y)\n",
      "    return y"
     ],
     "language": "python",
     "metadata": {},
     "outputs": [],
     "prompt_number": 6
    },
    {
     "cell_type": "code",
     "collapsed": false,
     "input": [
      "train_x = get_x(train_data)\n",
      "train_y = get_y(train_data)\n",
      "test_x = get_x(test_data)\n",
      "test_y = get_y(test_data)"
     ],
     "language": "python",
     "metadata": {},
     "outputs": [],
     "prompt_number": 7
    },
    {
     "cell_type": "code",
     "collapsed": false,
     "input": [
      "print train_x[0:1]\n",
      "print train_y[0:1]\n",
      "print test_x[0:1]\n",
      "print test_y[0:1]"
     ],
     "language": "python",
     "metadata": {},
     "outputs": [
      {
       "output_type": "stream",
       "stream": "stdout",
       "text": [
        "[[  4.115   5.02   -7.879 -11.78    2.004  -0.353  -0.735   3.561   2.441\n",
        "   -9.822   1.   ]]\n",
        "[[1]]\n",
        "[[ -2.602  -6.676  -3.787   6.973   0.45    6.402  -4.174   3.608   1.688\n",
        "  -10.028   1.   ]]\n",
        "[[1]]\n"
       ]
      }
     ],
     "prompt_number": 8
    },
    {
     "cell_type": "code",
     "collapsed": false,
     "input": [
      "from scipy.spatial.distance import cdist"
     ],
     "language": "python",
     "metadata": {},
     "outputs": [],
     "prompt_number": 9
    },
    {
     "cell_type": "code",
     "collapsed": false,
     "input": [
      "def kernel_rbf(x, y, gamma):\n",
      "    pairwise_square_dist = cdist(x, y, \"sqeuclidean\")\n",
      "    kernel = np.exp(- gamma * pairwise_square_dist)\n",
      "    return kernel"
     ],
     "language": "python",
     "metadata": {},
     "outputs": [],
     "prompt_number": 10
    },
    {
     "cell_type": "markdown",
     "metadata": {},
     "source": [
      "x : 2d array (N,K)\n",
      "    data array of explanatory variables, columns represent variables\n",
      "    rows represent observations\n",
      "y : 2d array (N,1) (optional)\n",
      "    endogenous variable that should be fitted or predicted\n",
      "    can alternatively be specified as parameter to fit method\n",
      "    \n",
      "\u03b3\u2208{32,2,0.125} and \u03bb\u2208{0.001,1,1000}"
     ]
    },
    {
     "cell_type": "heading",
     "level": 2,
     "metadata": {},
     "source": [
      "Q19"
     ]
    },
    {
     "cell_type": "heading",
     "level": 3,
     "metadata": {},
     "source": [
      "Ein"
     ]
    },
    {
     "cell_type": "code",
     "collapsed": false,
     "input": [
      "beta_list = []\n",
      "for gamma in [32, 2, 0.125]:\n",
      "    for lmda in [0.001, 1, 1000]:\n",
      "        # Ein and Eout\n",
      "        print \"gamma =\", gamma, \"lambda =\", lmda\n",
      "        \n",
      "        K1 = kernel_rbf(train_x, train_x, gamma)\n",
      "        inv = np.linalg.inv(K1 + np.eye(*K.shape) * lmda)\n",
      "        \n",
      "        #print \"kernal dim\", K.shape\n",
      "        \n",
      "        beta = np.dot(inv, train_y) #self.kernel(y,y,scale=self.scale))\n",
      "        print \"beta =\", beta.shape\n",
      "        \n",
      "        print \"Ein =\", Ein(train_x, train_y, yest)\n",
      "        \n",
      "        K2 = kernel_rbf(test_x, train_x, gamma)\n",
      "        print \"kernal dim\", K2.shape\n",
      "        \n",
      "        g = np.dot(K2, beta)        \n",
      "        print \"g(x) =\", g.shape\n",
      "        \n",
      "        count = 0\n",
      "        for i in xrange(100):\n",
      "            #print sign(g[i][0]), int(test_y[i][0])\n",
      "            \n",
      "            if sign(g[i][0]) != int(test_y[i][0]):\n",
      "                count = count + 1\n",
      "                \n",
      "        print \"Eout =\", count/100., \"\\n\"\n",
      "                \n",
      "#print \"beta\", beta"
     ],
     "language": "python",
     "metadata": {},
     "outputs": [
      {
       "output_type": "stream",
       "stream": "stdout",
       "text": [
        "gamma = 32 lambda = 0.001\n",
        "beta = (400, 1)\n",
        "Ein = 0.0875\n",
        "kernal dim (100, 400)\n",
        "g(x) = (100, 1)\n",
        "Eout = 0.15 \n",
        "\n",
        "gamma = 32 lambda = 1\n",
        "beta = (400, 1)\n",
        "Ein = 0.0875\n",
        "kernal dim (100, 400)\n",
        "g(x) = (100, 1)\n",
        "Eout = 0.15 \n",
        "\n",
        "gamma = 32 lambda = 1000\n",
        "beta = (400, 1)\n",
        "Ein = 0.0875\n",
        "kernal dim (100, 400)\n",
        "g(x) = (100, 1)\n",
        "Eout = 0.15 \n",
        "\n",
        "gamma = 2 lambda = 0.001\n",
        "beta ="
       ]
      },
      {
       "output_type": "stream",
       "stream": "stdout",
       "text": [
        " (400, 1)\n",
        "Ein = 0.0875\n",
        "kernal dim (100, 400)\n",
        "g(x) = (100, 1)\n",
        "Eout = 0.13 \n",
        "\n",
        "gamma = 2 lambda = 1\n",
        "beta = (400, 1)\n",
        "Ein = 0.0875\n",
        "kernal dim (100, 400)\n",
        "g(x) = (100, 1)\n",
        "Eout = 0.13 \n",
        "\n",
        "gamma = 2 lambda = 1000\n",
        "beta ="
       ]
      },
      {
       "output_type": "stream",
       "stream": "stdout",
       "text": [
        " (400, 1)\n",
        "Ein = 0.0875\n",
        "kernal dim (100, 400)\n",
        "g(x) = (100, 1)\n",
        "Eout = 0.13 \n",
        "\n",
        "gamma = 0.125 lambda = 0.001\n",
        "beta = (400, 1)\n",
        "Ein = 0.0875\n",
        "kernal dim (100, 400)\n",
        "g(x) = (100, 1)\n",
        "Eout = 0.02 \n",
        "\n",
        "gamma = 0.125 lambda = 1\n",
        "beta = (400, 1)\n",
        "Ein = 0.0875\n",
        "kernal dim (100, 400)\n",
        "g(x) = (100, 1)\n",
        "Eout = 0.06 \n",
        "\n",
        "gamma = 0.125 lambda = 1000\n",
        "beta = (400, 1)\n",
        "Ein = 0.0875\n",
        "kernal dim (100, 400)\n",
        "g(x) = (100, 1)\n",
        "Eout = 0.26 \n",
        "\n"
       ]
      }
     ],
     "prompt_number": 58
    },
    {
     "cell_type": "heading",
     "level": 3,
     "metadata": {},
     "source": [
      "Eout"
     ]
    },
    {
     "cell_type": "code",
     "collapsed": false,
     "input": [
      "def sign(x):\n",
      "    if x >= 0:\n",
      "        return 1\n",
      "    else:\n",
      "        return -1"
     ],
     "language": "python",
     "metadata": {},
     "outputs": [],
     "prompt_number": 46
    },
    {
     "cell_type": "code",
     "collapsed": false,
     "input": [
      "def Ein(x, y, ypredict):\n",
      "    count = 0\n",
      "    N = len(x)\n",
      "        \n",
      "    for j in xrange(N):\n",
      "        #print \"pred: \", sign(ypredict[j][0]), y[j][0]\n",
      "        \n",
      "        if sign(ypredict[j][0]) != y[j][0]:\n",
      "            count = count + 1\n",
      "    \n",
      "    #print \"incorrect \", count, \"/\", N\n",
      "        \n",
      "    return count*1.0/N"
     ],
     "language": "python",
     "metadata": {},
     "outputs": [
      {
       "output_type": "stream",
       "stream": "stdout",
       "text": [
        "\n"
       ]
      }
     ],
     "prompt_number": 13
    },
    {
     "cell_type": "code",
     "collapsed": false,
     "input": [
      "def predict(self,x):\n",
      "    '''predict new y values for a given array of explanatory variables'''\n",
      "    self.xpredict = x\n",
      "    K = self.kernel(x, self.x, scale=self.scale)\n",
      "    self.ypredict = np.dot(K, self.parest)\n",
      "    return self.ypredict"
     ],
     "language": "python",
     "metadata": {},
     "outputs": [],
     "prompt_number": 245
    },
    {
     "cell_type": "code",
     "collapsed": false,
     "input": [],
     "language": "python",
     "metadata": {},
     "outputs": []
    }
   ],
   "metadata": {}
  }
 ]
}