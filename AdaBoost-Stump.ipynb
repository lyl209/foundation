{
 "metadata": {
  "name": "",
  "signature": "sha256:931cdbd49be1012f85a551f08a4247999e774c01998f462e51d4985eeda09b80"
 },
 "nbformat": 3,
 "nbformat_minor": 0,
 "worksheets": [
  {
   "cells": [
    {
     "cell_type": "code",
     "collapsed": false,
     "input": [
      "%matplotlib inline\n",
      "import matplotlib.pyplot as plt\n",
      "import numpy as np\n",
      "import random\n",
      "import csv"
     ],
     "language": "python",
     "metadata": {},
     "outputs": [],
     "prompt_number": 6
    },
    {
     "cell_type": "code",
     "collapsed": false,
     "input": [
      "train_data = np.array(list(csv.reader(open('hw2_adaboost_train.dat', 'r'), delimiter=' ')))\n",
      "test_data = np.array(list(csv.reader(open('hw2_adaboost_test.dat', 'r'), delimiter=' ')))\n",
      "print len(train_data)\n",
      "print len(test_data)"
     ],
     "language": "python",
     "metadata": {},
     "outputs": [
      {
       "output_type": "stream",
       "stream": "stdout",
       "text": [
        "100\n",
        "1000\n"
       ]
      }
     ],
     "prompt_number": 7
    },
    {
     "cell_type": "code",
     "collapsed": false,
     "input": [
      "def sign(x):\n",
      "    if x > 0:\n",
      "        return 1\n",
      "    else:\n",
      "        return -1"
     ],
     "language": "python",
     "metadata": {},
     "outputs": [],
     "prompt_number": 17
    },
    {
     "cell_type": "code",
     "collapsed": false,
     "input": [
      "def boolean(y, h):\n",
      "    if y == h:\n",
      "        return 1\n",
      "    else:\n",
      "        return 0"
     ],
     "language": "python",
     "metadata": {},
     "outputs": [],
     "prompt_number": 18
    },
    {
     "cell_type": "code",
     "collapsed": false,
     "input": [
      "print [5]*3"
     ],
     "language": "python",
     "metadata": {},
     "outputs": [
      {
       "output_type": "stream",
       "stream": "stdout",
       "text": [
        "[5, 5, 5]\n"
       ]
      }
     ],
     "prompt_number": 24
    },
    {
     "cell_type": "heading",
     "level": 3,
     "metadata": {},
     "source": [
      "Q12 Calculate Ein(g1)"
     ]
    },
    {
     "cell_type": "code",
     "collapsed": false,
     "input": [
      "def gen_theta(data, d):\n",
      "    t = []\n",
      "    t.append(float(\"inf\"))\n",
      "    count = len(data)\n",
      "    \n",
      "    sorted_data = sorted(data, key=lambda x: float(x[d]))\n",
      "    \n",
      "    #print sorted_data[0:20]\n",
      "    for i in xrange(count - 1):\n",
      "        t.append( (float(sorted_data[i][d]) + float(sorted_data[i+1][d])) / 2.0 )\n",
      "        \n",
      "    return t"
     ],
     "language": "python",
     "metadata": {},
     "outputs": [],
     "prompt_number": 49
    },
    {
     "cell_type": "code",
     "collapsed": false,
     "input": [
      "print gen_theta(train_data, 0)[0:10]"
     ],
     "language": "python",
     "metadata": {},
     "outputs": [
      {
       "output_type": "stream",
       "stream": "stdout",
       "text": [
        "[inf, 0.0189253, 0.028663349999999997, 0.03209215, 0.03235665, 0.0379749, 0.04824745, 0.0638533, 0.08969325, 0.11072499999999999]\n"
       ]
      }
     ],
     "prompt_number": 50
    },
    {
     "cell_type": "code",
     "collapsed": false,
     "input": [
      "def calcArgmin(u, y):\n",
      "    \n",
      "    uyh = [] # sum of u x [y != h]\n",
      "    N = len(train_data)\n",
      "    \n",
      "    for d in xrange(0, 2):\n",
      "        theta = gen_theta(train_data, d)\n",
      "        for t in theta:\n",
      "            for s in [-1, 1]:\n",
      "                \n",
      "                r = [] # store u * [y != h]\n",
      "                for i in xrange(N):\n",
      "                    \n",
      "                    xi = float(train_data[i][d])\n",
      "                    h = s*sign(xi - t)\n",
      "                    r.append(u[i]*boolean(y[i], h))\n",
      "                    \n",
      "                uyh.append((d, t, s, sum(r)))\n",
      "    return uyh"
     ],
     "language": "python",
     "metadata": {},
     "outputs": [],
     "prompt_number": 65
    },
    {
     "cell_type": "code",
     "collapsed": false,
     "input": [
      "N = len(train_data)\n",
      "u1 = [1.0/N] * N\n",
      "y = map(int, train_data[:, 2])\n",
      "#print train_data[0][0]\n",
      "uyh = calcArgmin(u1, y)\n",
      "#print uyh[0:10]\n",
      "print \"MIN (d, theta, s, sum) =\", min(uyh, key = lambda t: t[3])\n"
     ],
     "language": "python",
     "metadata": {},
     "outputs": [
      {
       "output_type": "stream",
       "stream": "stdout",
       "text": [
        "MIN (d, theta, s, sum) = (0, 0.644854, -1, 0.24000000000000007)\n"
       ]
      }
     ],
     "prompt_number": 72
    },
    {
     "cell_type": "heading",
     "level": 3,
     "metadata": {},
     "source": [
      "Q12 Calculate Ein(g1)"
     ]
    },
    {
     "cell_type": "code",
     "collapsed": false,
     "input": [
      "N = len(train_data)\n",
      "u = [1.0/N] * N\n",
      "y = map(int, train_data[:, 2])\n",
      "\n",
      "params = []\n",
      "\n",
      "#T = 1 # g1\n",
      "T = 300\n",
      "for round in xrange(T):\n",
      "    #print \"Round #\", round\n",
      "    #print \"u =\", u\n",
      "    #print \" sum of u =\", sum(u)\n",
      "    \n",
      "    uyh = calcArgmin(u, y)\n",
      "    \n",
      "    (d, theta, s, ss) = min(uyh, key = lambda t: t[3])\n",
      "    \n",
      "    # update u\n",
      "    (block, u) = calcNewu(train_data, u, d, theta, s)\n",
      "    \n",
      "    alpha = math.log(block)\n",
      "    \n",
      "    params.append((alpha, d, theta, s))\n",
      "\n",
      "print \"Done\", len(params)"
     ],
     "language": "python",
     "metadata": {},
     "outputs": [
      {
       "output_type": "stream",
       "stream": "stdout",
       "text": [
        "Done 300\n"
       ]
      }
     ],
     "prompt_number": 188
    },
    {
     "cell_type": "heading",
     "level": 3,
     "metadata": {},
     "source": [
      "Q13 Calculate Ein(G)"
     ]
    },
    {
     "cell_type": "code",
     "collapsed": false,
     "input": [
      "print params[0:10]"
     ],
     "language": "python",
     "metadata": {},
     "outputs": [
      {
       "output_type": "stream",
       "stream": "stdout",
       "text": [
        "[(0.576339754969193, 0, 0.644854, -1)]\n"
       ]
      }
     ],
     "prompt_number": 177
    },
    {
     "cell_type": "code",
     "collapsed": false,
     "input": [
      "print min(Eplison)"
     ],
     "language": "python",
     "metadata": {},
     "outputs": [
      {
       "output_type": "stream",
       "stream": "stdout",
       "text": [
        "0.178728070175\n"
       ]
      }
     ],
     "prompt_number": 178
    },
    {
     "cell_type": "code",
     "collapsed": false,
     "input": [
      "def calcG(data):\n",
      "    G = []\n",
      "    for j in xrange(len(data)):\n",
      "    \n",
      "        ss = 0\n",
      "        for (alpha, d, theta, s) in params:\n",
      "            \n",
      "            xi = float(data[j][d]) \n",
      "            \n",
      "            g = s * sign(xi - theta) \n",
      "            \n",
      "            ss = ss + alpha * g\n",
      "    \n",
      "        G.append(sign(ss))    \n",
      "        \n",
      "    return G"
     ],
     "language": "python",
     "metadata": {},
     "outputs": [],
     "prompt_number": 179
    },
    {
     "cell_type": "code",
     "collapsed": false,
     "input": [
      "trainG = calcG(train_data)\n",
      "testG = calcG(test_data)\n",
      "\n",
      "print \"Ein(G) =\", EinG(train_data, trainG)\n",
      "print \"Eout(G) =\", EinG(test_data, testG)"
     ],
     "language": "python",
     "metadata": {},
     "outputs": [
      {
       "output_type": "stream",
       "stream": "stdout",
       "text": [
        "Ein(G) = 0.0\n",
        "Eout(G) = 0.132\n"
       ]
      }
     ],
     "prompt_number": 191
    },
    {
     "cell_type": "code",
     "collapsed": false,
     "input": [
      "def EinG(data, G):\n",
      "    \n",
      "    count = 0\n",
      "    N = len(data)\n",
      "    \n",
      "    for j in xrange(N):\n",
      "        xi = float(data[j][d])        \n",
      "                \n",
      "        yi = -1*int(data[j][2])\n",
      "        \n",
      "        #print G[j], yi\n",
      "        if  G[j] != yi:\n",
      "            count = count + 1\n",
      "    \n",
      "    #print \"Error count =\", count\n",
      "    return count*1.0/len(data)"
     ],
     "language": "python",
     "metadata": {},
     "outputs": [],
     "prompt_number": 185
    },
    {
     "cell_type": "code",
     "collapsed": false,
     "input": [],
     "language": "python",
     "metadata": {},
     "outputs": [
      {
       "output_type": "stream",
       "stream": "stdout",
       "text": [
        "Eout(G) = 0.29\n"
       ]
      }
     ],
     "prompt_number": 186
    },
    {
     "cell_type": "code",
     "collapsed": false,
     "input": [
      "def calcNewu(data, u, d, theta, s):\n",
      "    ep = calcEpison(data, u, d, theta, s)\n",
      "    #Eplison.append(ep)\n",
      "    #print \"  eplison =\", ep\n",
      "    block = math.sqrt( (1-ep)/ep )\n",
      "    #print \"  Block t =\", block\n",
      "    \n",
      "    for i in xrange(len(u)):\n",
      "        xi = float(data[i][d]) \n",
      "        y = int(data[i][2])\n",
      "        h = s * sign(xi - theta)\n",
      "        if y == h:\n",
      "            u[i] = u[i] * block\n",
      "        else:\n",
      "            u[i] = u[i] / block\n",
      "    return (block, u)"
     ],
     "language": "python",
     "metadata": {},
     "outputs": [],
     "prompt_number": 125
    },
    {
     "cell_type": "code",
     "collapsed": false,
     "input": [
      "def calcEpison(data, u, d, theta, s):\n",
      "    N = len(u)\n",
      "    top = 0\n",
      "    bottom = 0\n",
      "    \n",
      "    for j in xrange(N):\n",
      "        xi = float(data[j][d]) \n",
      "        y = int(data[j][2])\n",
      "        h = s * sign(xi - theta)\n",
      "        #print \"xi = \", xi, \"theta = \", theta\n",
      "        \n",
      "        top = top + u[j] * boolean(y, h)\n",
      "        bottom = bottom + u[j]\n",
      "    return top / bottom"
     ],
     "language": "python",
     "metadata": {},
     "outputs": [],
     "prompt_number": 88
    },
    {
     "cell_type": "code",
     "collapsed": false,
     "input": [
      "import math\n",
      "print math.log(10)"
     ],
     "language": "python",
     "metadata": {},
     "outputs": [
      {
       "output_type": "stream",
       "stream": "stdout",
       "text": [
        "2.30258509299\n"
       ]
      }
     ],
     "prompt_number": 106
    },
    {
     "cell_type": "code",
     "collapsed": false,
     "input": [
      "#MIN (d, theta, s, sum) = (0, 0.644854, -1, 0.24000000000000007)\n",
      "ep = calcEpison(train_data, u, 0, 0.644854, -1)\n",
      "print \"eplison =\", ep\n",
      "block = math.sqrt( (1-ep)/ep )\n",
      "print \"Block t =\", block\n",
      "print \"alhpa =\", math.log(block)"
     ],
     "language": "python",
     "metadata": {},
     "outputs": [
      {
       "output_type": "stream",
       "stream": "stdout",
       "text": [
        "eplison = 0.490778215666\n",
        "Block t = 1.01861683242\n",
        "alhpa = 0.0184456603813\n"
       ]
      }
     ],
     "prompt_number": 105
    },
    {
     "cell_type": "code",
     "collapsed": false,
     "input": [
      "x = map(float, train_data[:,d])\n",
      "    (s, t, e) = find_lowestEin2(x, y)"
     ],
     "language": "python",
     "metadata": {},
     "outputs": []
    },
    {
     "cell_type": "code",
     "collapsed": false,
     "input": [],
     "language": "python",
     "metadata": {},
     "outputs": []
    }
   ],
   "metadata": {}
  }
 ]
}