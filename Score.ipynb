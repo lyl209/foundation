{
 "metadata": {
  "name": "",
  "signature": "sha256:126b9cbef086c9a8481e6183c1db94893988f68eccf3f318548f6d7cf955c769"
 },
 "nbformat": 3,
 "nbformat_minor": 0,
 "worksheets": [
  {
   "cells": [
    {
     "cell_type": "code",
     "collapsed": false,
     "input": [
      "Result = []\n",
      "mcq = 4\n",
      "mco = mcq * 5\n",
      "scq = 20 - mcq\n",
      "\n",
      "myscore = 276\n",
      "\n",
      "r = 0\n",
      "for i in xrange(scq):\n",
      "  for j in xrange(mco):\n",
      "    r = i * 20 - (scq - i) * 5 + j * 4 - (mco - j) * 4\n",
      "    Result.append((i, j, r))\n",
      "    if r == myscore:\n",
      "        print \"score =\", r\n",
      "        print \"single =\", i , \"/\" , scq, \"multi =\", j , \"/\" , mco\n",
      "        print \"single wrong =\", scq-i, \"multi wrong =\", mco-j\n",
      "                  \n",
      "#print Result"
     ],
     "language": "python",
     "metadata": {},
     "outputs": [
      {
       "output_type": "stream",
       "stream": "stdout",
       "text": [
        "score = 276\n",
        "single = 12 / 16 multi = 17 / 20\n",
        "single wrong = 4 multi wrong = 3\n"
       ]
      }
     ],
     "prompt_number": 4
    },
    {
     "cell_type": "code",
     "collapsed": false,
     "input": [],
     "language": "python",
     "metadata": {},
     "outputs": []
    }
   ],
   "metadata": {}
  }
 ]
}